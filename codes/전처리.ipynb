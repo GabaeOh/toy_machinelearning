{
 "cells": [
  {
   "cell_type": "markdown",
   "id": "f5cbedf6-8d88-4ebe-8da1-d7e1734e993c",
   "metadata": {},
   "source": [
    "## 결측치 처리 방법 \n",
    "- 제거 (Deletion)\n",
    "- 대치 (Imputation)\n",
    "- 예측 모델 (Prediction model)"
   ]
  },
  {
   "cell_type": "markdown",
   "id": "496ce050-257a-4020-8d0d-a17f24c05ca1",
   "metadata": {},
   "source": [
    "## 결측치 처리 가이드라인\n",
    "- 10% 미만\n",
    "    - 삭제 or 대치\n",
    "- 10% ~ 50%\n",
    "  - regression or model based imputation\n",
    "- 50% 이상\n",
    "    - 해당 컬럼(변수) 자체 제거"
   ]
  },
  {
   "cell_type": "code",
   "execution_count": 1,
   "id": "60b1b6cd-3683-4e71-abff-423f9d37f2dd",
   "metadata": {
    "tags": []
   },
   "outputs": [],
   "source": [
    "import pandas as pd"
   ]
  },
  {
   "cell_type": "code",
   "execution_count": 2,
   "id": "03f533a9-849b-4c85-a209-8d6de76d4ab9",
   "metadata": {
    "tags": []
   },
   "outputs": [
    {
     "data": {
      "text/html": [
       "<div>\n",
       "<style scoped>\n",
       "    .dataframe tbody tr th:only-of-type {\n",
       "        vertical-align: middle;\n",
       "    }\n",
       "\n",
       "    .dataframe tbody tr th {\n",
       "        vertical-align: top;\n",
       "    }\n",
       "\n",
       "    .dataframe thead th {\n",
       "        text-align: right;\n",
       "    }\n",
       "</style>\n",
       "<table border=\"1\" class=\"dataframe\">\n",
       "  <thead>\n",
       "    <tr style=\"text-align: right;\">\n",
       "      <th></th>\n",
       "      <th>Unnamed: 0</th>\n",
       "      <th>환자ID</th>\n",
       "      <th>Large Lymphocyte</th>\n",
       "      <th>Location of herniation</th>\n",
       "      <th>ODI</th>\n",
       "      <th>가족력</th>\n",
       "      <th>간질성폐질환</th>\n",
       "      <th>고혈압여부</th>\n",
       "      <th>과거수술횟수</th>\n",
       "      <th>당뇨여부</th>\n",
       "      <th>...</th>\n",
       "      <th>Modic change</th>\n",
       "      <th>PI</th>\n",
       "      <th>PT</th>\n",
       "      <th>Seg Angle(raw)</th>\n",
       "      <th>Vaccum disc</th>\n",
       "      <th>골밀도</th>\n",
       "      <th>디스크단면적</th>\n",
       "      <th>디스크위치</th>\n",
       "      <th>척추이동척도</th>\n",
       "      <th>척추전방위증</th>\n",
       "    </tr>\n",
       "  </thead>\n",
       "  <tbody>\n",
       "    <tr>\n",
       "      <th>0</th>\n",
       "      <td>0</td>\n",
       "      <td>1PT</td>\n",
       "      <td>22.8</td>\n",
       "      <td>3</td>\n",
       "      <td>51.0</td>\n",
       "      <td>0.0</td>\n",
       "      <td>0</td>\n",
       "      <td>0</td>\n",
       "      <td>0</td>\n",
       "      <td>0</td>\n",
       "      <td>...</td>\n",
       "      <td>3</td>\n",
       "      <td>51.6</td>\n",
       "      <td>36.6</td>\n",
       "      <td>14.4</td>\n",
       "      <td>0</td>\n",
       "      <td>-1.01</td>\n",
       "      <td>2048.5</td>\n",
       "      <td>4</td>\n",
       "      <td>Down</td>\n",
       "      <td>0</td>\n",
       "    </tr>\n",
       "    <tr>\n",
       "      <th>1</th>\n",
       "      <td>1</td>\n",
       "      <td>2PT</td>\n",
       "      <td>44.9</td>\n",
       "      <td>4</td>\n",
       "      <td>26.0</td>\n",
       "      <td>0.0</td>\n",
       "      <td>0</td>\n",
       "      <td>0</td>\n",
       "      <td>0</td>\n",
       "      <td>0</td>\n",
       "      <td>...</td>\n",
       "      <td>0</td>\n",
       "      <td>40.8</td>\n",
       "      <td>7.2</td>\n",
       "      <td>17.8</td>\n",
       "      <td>0</td>\n",
       "      <td>-1.14</td>\n",
       "      <td>1753.1</td>\n",
       "      <td>4</td>\n",
       "      <td>Up</td>\n",
       "      <td>0</td>\n",
       "    </tr>\n",
       "  </tbody>\n",
       "</table>\n",
       "<p>2 rows × 52 columns</p>\n",
       "</div>"
      ],
      "text/plain": [
       "   Unnamed: 0 환자ID  Large Lymphocyte  Location of herniation   ODI  가족력  \\\n",
       "0           0  1PT              22.8                       3  51.0  0.0   \n",
       "1           1  2PT              44.9                       4  26.0  0.0   \n",
       "\n",
       "   간질성폐질환  고혈압여부  과거수술횟수  당뇨여부  ...  Modic change    PI    PT  Seg Angle(raw)  \\\n",
       "0       0      0       0     0  ...             3  51.6  36.6            14.4   \n",
       "1       0      0       0     0  ...             0  40.8   7.2            17.8   \n",
       "\n",
       "   Vaccum disc   골밀도  디스크단면적  디스크위치  척추이동척도  척추전방위증  \n",
       "0            0 -1.01  2048.5      4    Down       0  \n",
       "1            0 -1.14  1753.1      4      Up       0  \n",
       "\n",
       "[2 rows x 52 columns]"
      ]
     },
     "execution_count": 2,
     "metadata": {},
     "output_type": "execute_result"
    }
   ],
   "source": [
    "df_ROS = pd.read_csv('../dataset/RecurrenceOfSurgery.csv')\n",
    "df_ROS[:2]"
   ]
  },
  {
   "cell_type": "markdown",
   "id": "3ab2836e-4fb9-4de2-9195-d08effba0484",
   "metadata": {},
   "source": [
    "#### 결측치 확인 "
   ]
  },
  {
   "cell_type": "code",
   "execution_count": 107,
   "id": "1d12ffe3-168d-45ee-9ac8-ab5c2d5911b9",
   "metadata": {
    "collapsed": true,
    "jupyter": {
     "outputs_hidden": true
    },
    "tags": []
   },
   "outputs": [
    {
     "data": {
      "text/plain": [
       "Unnamed: 0                  0\n",
       "환자ID                        0\n",
       "Large Lymphocyte            0\n",
       "Location of herniation      0\n",
       "ODI                         0\n",
       "가족력                         0\n",
       "간질성폐질환                      0\n",
       "고혈압여부                       0\n",
       "과거수술횟수                      0\n",
       "당뇨여부                        0\n",
       "말초동맥질환여부                    0\n",
       "빈혈여부                        0\n",
       "성별                          0\n",
       "스테로이드치료                     0\n",
       "신부전여부                       0\n",
       "신장                          0\n",
       "심혈관질환                       0\n",
       "암발병여부                       0\n",
       "연령                          0\n",
       "우울증여부                       0\n",
       "입원기간                        0\n",
       "입원일자                        0\n",
       "종양진행여부                      0\n",
       "직업                        415\n",
       "체중                          0\n",
       "퇴원일자                        0\n",
       "헤모글로빈수치                     1\n",
       "혈전합병증여부                     0\n",
       "환자통증정도                      0\n",
       "흡연여부                        0\n",
       "통증기간(월)                     4\n",
       "수술기법                       81\n",
       "수술시간                        0\n",
       "수술실패여부                      0\n",
       "수술일자                        0\n",
       "재발여부                        0\n",
       "혈액형                         0\n",
       "전방디스크높이(mm)                 0\n",
       "후방디스크높이(mm)                 0\n",
       "지방축적도                       3\n",
       "Instability                 0\n",
       "MF + ES                     0\n",
       "Modic change                0\n",
       "PI                          4\n",
       "PT                          4\n",
       "Seg Angle(raw)              1\n",
       "Vaccum disc                 0\n",
       "골밀도                       896\n",
       "디스크단면적                      1\n",
       "디스크위치                       0\n",
       "척추이동척도                      0\n",
       "척추전방위증                      0\n",
       "dtype: int64"
      ]
     },
     "execution_count": 107,
     "metadata": {},
     "output_type": "execute_result"
    }
   ],
   "source": [
    " #결측치 여부 확인\n",
    "    \n",
    "df_ROS.isnull().sum()\n",
    "# df_ROS.notnull().sum()"
   ]
  },
  {
   "cell_type": "code",
   "execution_count": 73,
   "id": "a4c57d37-fdc1-4023-9bed-b1ef3c7c4c8e",
   "metadata": {
    "tags": []
   },
   "outputs": [
    {
     "data": {
      "text/plain": [
       "False    1840\n",
       "True       54\n",
       "Name: 수술시간, dtype: int64"
      ]
     },
     "execution_count": 73,
     "metadata": {},
     "output_type": "execute_result"
    }
   ],
   "source": [
    " # 결측치 개수 확인\n",
    "\n",
    "df_ROS['수술시간'].isnull().value_counts()"
   ]
  },
  {
   "cell_type": "markdown",
   "id": "c02dc377-0894-4cca-8c48-99b0b5aa76b7",
   "metadata": {},
   "source": [
    "### 제거(Deletion)\n",
    "- 결측치가 있는 행은 삭제해주는 함수 : dropna() \n",
    "    - dropna( ) 의 인자로는 axis , how , thresh \n",
    "        - axis : 기준 축을 정해주는 것 ex) axis = 1 로 설정할 경우 칼럼기준으로 결측치를 삭제한다. 열기준\n",
    "        - how : 어떤 결측치를 삭제할 건지를 조건 설정 ex)  how = 'all' 을 해줄경우 행의 모든내용이 비어있는 경우에만 삭제\n",
    "        - thresh : threshold 는 역치(경계) 라는 뜻 ex) thresh = 3 이라고 할 경우 4개이상의 결측치가 있는 행만 제거"
   ]
  },
  {
   "cell_type": "code",
   "execution_count": 75,
   "id": "7d325891-0031-45e2-8511-ff0f9e2771ac",
   "metadata": {
    "tags": []
   },
   "outputs": [],
   "source": [
    "# 결측치 삭제 \n",
    "df_ROS_drop = df_ROS.dropna() \n",
    "\n",
    "## (axis = 1) --> 결측치가 있는 열은 전부 삭제\n",
    "## (how='all') --> 모든 데이터가 null인 행만 삭제\n",
    "## (thresh=3) --> 데이터가 최소4개 이상 없을 때 drop\n",
    "## (subset=['col1', 'col2', 'col3'], thresh = 1 ) --> 특정열에 1개 초과의 결측치가 있을 경우 해당 행 삭제\n",
    "## (inplace = True) --> 데이터프레임을 지정해서 저장하지 않고도 바로 적용"
   ]
  },
  {
   "cell_type": "markdown",
   "id": "0a35acab-3914-4e54-a3e3-10934d638bf9",
   "metadata": {},
   "source": [
    "### 대치(Imputation) "
   ]
  },
  {
   "cell_type": "markdown",
   "id": "508cfa10-358a-445c-bd42-e3449c87ff91",
   "metadata": {},
   "source": [
    "#### 단일값으로 채우기"
   ]
  },
  {
   "cell_type": "code",
   "execution_count": 55,
   "id": "18670f1d-0ca3-46cc-8e4a-cc48bafacf00",
   "metadata": {
    "tags": []
   },
   "outputs": [
    {
     "data": {
      "text/plain": [
       "0.0    1751\n",
       "1.0      92\n",
       "Name: 가족력, dtype: int64"
      ]
     },
     "execution_count": 55,
     "metadata": {},
     "output_type": "execute_result"
    }
   ],
   "source": [
    "df_ROS['가족력'].value_counts()"
   ]
  },
  {
   "cell_type": "code",
   "execution_count": 66,
   "id": "c08c151d-f202-4b49-b9d7-306e299c067a",
   "metadata": {
    "tags": []
   },
   "outputs": [],
   "source": [
    "df_ROS['가족력'] = df_ROS['가족력'].fillna(0) ## null값 0으로 채우기"
   ]
  },
  {
   "cell_type": "code",
   "execution_count": null,
   "id": "8fa92e19-8661-4e9d-864a-16826d01228c",
   "metadata": {},
   "outputs": [],
   "source": [
    "df_ROS['가족력'].isnull().sum()"
   ]
  },
  {
   "cell_type": "markdown",
   "id": "a22e7188-840d-4ec5-8f29-e4f56ea1d25f",
   "metadata": {},
   "source": [
    "#### 평균값, 중위값 , 최빈값(가장 많은 빈도수)으로 채우기\n",
    "- .mean() .median() .mode()\n",
    "- inplace=True : 원본데이터를 바꾸겠다는 뜻"
   ]
  },
  {
   "cell_type": "code",
   "execution_count": 58,
   "id": "347d0e6f-221d-4cd7-a940-c0ba944a0008",
   "metadata": {
    "collapsed": true,
    "jupyter": {
     "outputs_hidden": true
    },
    "tags": []
   },
   "outputs": [
    {
     "data": {
      "text/plain": [
       "40.0    34\n",
       "36.0    25\n",
       "31.0    23\n",
       "44.0    23\n",
       "37.0    22\n",
       "33.0    21\n",
       "26.0    21\n",
       "19.0    19\n",
       "29.0    17\n",
       "27.0    17\n",
       "43.0    16\n",
       "35.0    16\n",
       "15.0    14\n",
       "34.0    13\n",
       "30.0    13\n",
       "28.0    13\n",
       "32.0    11\n",
       "25.0    11\n",
       "42.0    10\n",
       "22.0    10\n",
       "24.0    10\n",
       "38.0     9\n",
       "18.0     9\n",
       "21.0     8\n",
       "23.0     8\n",
       "12.0     7\n",
       "39.0     6\n",
       "20.0     6\n",
       "14.0     5\n",
       "13.0     5\n",
       "11.0     4\n",
       "46.0     4\n",
       "51.0     4\n",
       "17.0     4\n",
       "41.0     4\n",
       "55.0     4\n",
       "68.0     3\n",
       "49.0     3\n",
       "10.0     3\n",
       "45.0     2\n",
       "16.0     2\n",
       "47.0     1\n",
       "9.0      1\n",
       "4.0      1\n",
       "Name: ODI, dtype: int64"
      ]
     },
     "execution_count": 58,
     "metadata": {},
     "output_type": "execute_result"
    }
   ],
   "source": [
    "df_ROS['ODI'].value_counts()"
   ]
  },
  {
   "cell_type": "code",
   "execution_count": 61,
   "id": "7499208a-afba-4d2a-a189-05465d118841",
   "metadata": {
    "tags": []
   },
   "outputs": [
    {
     "data": {
      "text/plain": [
       "31.142857142857153"
      ]
     },
     "execution_count": 61,
     "metadata": {},
     "output_type": "execute_result"
    }
   ],
   "source": [
    "df_ROS['ODI'].mean()"
   ]
  },
  {
   "cell_type": "code",
   "execution_count": 65,
   "id": "5488ad56-322a-4959-9514-51372a13f13c",
   "metadata": {
    "tags": []
   },
   "outputs": [],
   "source": [
    "df_ROS['ODI'].fillna(df_ROS['ODI'].mean(), inplace=True) #평균값"
   ]
  },
  {
   "cell_type": "code",
   "execution_count": 64,
   "id": "2182e2a5-848e-4981-8b9f-99eb68254ea2",
   "metadata": {
    "tags": []
   },
   "outputs": [
    {
     "data": {
      "text/plain": [
       "0"
      ]
     },
     "execution_count": 64,
     "metadata": {},
     "output_type": "execute_result"
    }
   ],
   "source": [
    "df_ROS['ODI'].isnull().sum()"
   ]
  },
  {
   "cell_type": "markdown",
   "id": "c8263696-bd44-41fb-8aca-c2f0a715f01d",
   "metadata": {},
   "source": [
    "#### 결측치 바로 이후 값으로 채우기"
   ]
  },
  {
   "cell_type": "code",
   "execution_count": 105,
   "id": "9d542d3e-4cf0-46d7-bb0d-9760c3789046",
   "metadata": {
    "tags": []
   },
   "outputs": [],
   "source": [
    " df_ROS['수술시간'].fillna(method = 'bfill', inplace = True)"
   ]
  },
  {
   "cell_type": "code",
   "execution_count": 106,
   "id": "b7b64a51-19f9-474d-88ad-07d2b2110308",
   "metadata": {
    "tags": []
   },
   "outputs": [
    {
     "data": {
      "text/plain": [
       "0"
      ]
     },
     "execution_count": 106,
     "metadata": {},
     "output_type": "execute_result"
    }
   ],
   "source": [
    "df_ROS['수술시간'].isnull().sum()"
   ]
  },
  {
   "cell_type": "markdown",
   "id": "6f6056af-b868-4ea0-9f82-52bacf2964fd",
   "metadata": {},
   "source": [
    "#### 결측치 바로 이전 값으로 채우기"
   ]
  },
  {
   "cell_type": "code",
   "execution_count": 108,
   "id": "184175e3-769c-4d12-bdee-393cb2725e31",
   "metadata": {
    "tags": []
   },
   "outputs": [
    {
     "data": {
      "text/plain": [
       "0"
      ]
     },
     "execution_count": 108,
     "metadata": {},
     "output_type": "execute_result"
    }
   ],
   "source": [
    " df_ROS['지방축적도'].fillna(method = 'ffill', inplace = True)\n",
    "df_ROS['지방축적도'].isnull().sum()"
   ]
  },
  {
   "cell_type": "code",
   "execution_count": 82,
   "id": "e317893f-dbca-4235-bf2d-3a00e3e0b384",
   "metadata": {
    "tags": []
   },
   "outputs": [
    {
     "data": {
      "text/plain": [
       "54"
      ]
     },
     "execution_count": 82,
     "metadata": {},
     "output_type": "execute_result"
    }
   ],
   "source": [
    "df_ROS['수술시간'].replace(to_replace = np.nan, value = 35)\n"
   ]
  },
  {
   "cell_type": "markdown",
   "id": "763fd8f4-1575-4526-aa0b-5680362b17d7",
   "metadata": {},
   "source": [
    "#### GroupBy를 이용하여 평균값, 중위값 , 최빈값(가장 많은 빈도수)으로 채우기"
   ]
  },
  {
   "cell_type": "code",
   "execution_count": 67,
   "id": "e545f775-8d0a-4ed2-8f98-d514e610bc44",
   "metadata": {
    "tags": []
   },
   "outputs": [
    {
     "data": {
      "text/plain": [
       "성별\n",
       "1    31.105186\n",
       "2    31.203463\n",
       "Name: ODI, dtype: float64"
      ]
     },
     "execution_count": 67,
     "metadata": {},
     "output_type": "execute_result"
    }
   ],
   "source": [
    "df_ROS.groupby('성별')['ODI'].mean()"
   ]
  },
  {
   "cell_type": "code",
   "execution_count": 70,
   "id": "35259182-a026-449e-a42b-0e252c6bdaff",
   "metadata": {
    "tags": []
   },
   "outputs": [],
   "source": [
    "#성별로 나눠서 평균값을 집어 넣기\n",
    "\n",
    "df_ROS['ODI'].fillna(df_ROS.groupby('성별')['ODI'].transform('mean'), inplace=True) "
   ]
  },
  {
   "cell_type": "code",
   "execution_count": null,
   "id": "cf199588-8f56-4f30-b8d9-479db0c12b92",
   "metadata": {},
   "outputs": [],
   "source": []
  },
  {
   "cell_type": "markdown",
   "id": "92d8149c-d016-483a-8383-f4f42ae5b37a",
   "metadata": {},
   "source": [
    "### 예측모델(Prediction model)"
   ]
  },
  {
   "cell_type": "code",
   "execution_count": 3,
   "id": "68b0025a-a319-4eda-9210-78437df41281",
   "metadata": {
    "tags": []
   },
   "outputs": [],
   "source": [
    "df_ROS_extract = df_ROS[['환자통증정도','입원기간', '통증기간(월)', '연령', '체중', 'Large Lymphocyte', '수술기법']]"
   ]
  },
  {
   "cell_type": "code",
   "execution_count": 4,
   "id": "05a35580-30e2-4097-9bfb-5f5a543c361d",
   "metadata": {
    "tags": []
   },
   "outputs": [
    {
     "data": {
      "text/plain": [
       "환자통증정도               0\n",
       "입원기간                 0\n",
       "통증기간(월)              4\n",
       "연령                   0\n",
       "체중                   0\n",
       "Large Lymphocyte     0\n",
       "수술기법                81\n",
       "dtype: int64"
      ]
     },
     "execution_count": 4,
     "metadata": {},
     "output_type": "execute_result"
    }
   ],
   "source": [
    "df_ROS_extract.isnull().sum()"
   ]
  },
  {
   "cell_type": "code",
   "execution_count": 9,
   "id": "c1ffa063-7dba-4ebf-a687-0bcc9cc8206f",
   "metadata": {
    "tags": []
   },
   "outputs": [],
   "source": [
    "df_ROS_dropna= df_ROS_extract.dropna()"
   ]
  },
  {
   "cell_type": "code",
   "execution_count": 10,
   "id": "0537d024-a1a6-42a3-9f95-bf208d3bfbe1",
   "metadata": {
    "tags": []
   },
   "outputs": [
    {
     "data": {
      "text/plain": [
       "환자통증정도              0\n",
       "입원기간                0\n",
       "통증기간(월)             0\n",
       "연령                  0\n",
       "체중                  0\n",
       "Large Lymphocyte    0\n",
       "수술기법                0\n",
       "dtype: int64"
      ]
     },
     "execution_count": 10,
     "metadata": {},
     "output_type": "execute_result"
    }
   ],
   "source": [
    "df_ROS_dropna.isnull().sum()"
   ]
  },
  {
   "cell_type": "markdown",
   "id": "8e5340fd-cad8-40a5-8edf-d698efd44064",
   "metadata": {},
   "source": [
    "### 예측 모델 (Prediction model)"
   ]
  },
  {
   "cell_type": "code",
   "execution_count": 11,
   "id": "80c3ebd1-4a74-4ff9-ba27-741f6df446b5",
   "metadata": {
    "tags": []
   },
   "outputs": [],
   "source": [
    "target_forfillingna = df_ROS_dropna['통증기간(월)']\n",
    "features_forfillingna = df_ROS_dropna.drop(columns=['통증기간(월)','수술기법'])"
   ]
  },
  {
   "cell_type": "code",
   "execution_count": 12,
   "id": "1bd9024b-bc04-4522-988b-0ec8aa4ed6af",
   "metadata": {
    "tags": []
   },
   "outputs": [
    {
     "data": {
      "text/html": [
       "<style>#sk-container-id-1 {color: black;}#sk-container-id-1 pre{padding: 0;}#sk-container-id-1 div.sk-toggleable {background-color: white;}#sk-container-id-1 label.sk-toggleable__label {cursor: pointer;display: block;width: 100%;margin-bottom: 0;padding: 0.3em;box-sizing: border-box;text-align: center;}#sk-container-id-1 label.sk-toggleable__label-arrow:before {content: \"▸\";float: left;margin-right: 0.25em;color: #696969;}#sk-container-id-1 label.sk-toggleable__label-arrow:hover:before {color: black;}#sk-container-id-1 div.sk-estimator:hover label.sk-toggleable__label-arrow:before {color: black;}#sk-container-id-1 div.sk-toggleable__content {max-height: 0;max-width: 0;overflow: hidden;text-align: left;background-color: #f0f8ff;}#sk-container-id-1 div.sk-toggleable__content pre {margin: 0.2em;color: black;border-radius: 0.25em;background-color: #f0f8ff;}#sk-container-id-1 input.sk-toggleable__control:checked~div.sk-toggleable__content {max-height: 200px;max-width: 100%;overflow: auto;}#sk-container-id-1 input.sk-toggleable__control:checked~label.sk-toggleable__label-arrow:before {content: \"▾\";}#sk-container-id-1 div.sk-estimator input.sk-toggleable__control:checked~label.sk-toggleable__label {background-color: #d4ebff;}#sk-container-id-1 div.sk-label input.sk-toggleable__control:checked~label.sk-toggleable__label {background-color: #d4ebff;}#sk-container-id-1 input.sk-hidden--visually {border: 0;clip: rect(1px 1px 1px 1px);clip: rect(1px, 1px, 1px, 1px);height: 1px;margin: -1px;overflow: hidden;padding: 0;position: absolute;width: 1px;}#sk-container-id-1 div.sk-estimator {font-family: monospace;background-color: #f0f8ff;border: 1px dotted black;border-radius: 0.25em;box-sizing: border-box;margin-bottom: 0.5em;}#sk-container-id-1 div.sk-estimator:hover {background-color: #d4ebff;}#sk-container-id-1 div.sk-parallel-item::after {content: \"\";width: 100%;border-bottom: 1px solid gray;flex-grow: 1;}#sk-container-id-1 div.sk-label:hover label.sk-toggleable__label {background-color: #d4ebff;}#sk-container-id-1 div.sk-serial::before {content: \"\";position: absolute;border-left: 1px solid gray;box-sizing: border-box;top: 0;bottom: 0;left: 50%;z-index: 0;}#sk-container-id-1 div.sk-serial {display: flex;flex-direction: column;align-items: center;background-color: white;padding-right: 0.2em;padding-left: 0.2em;position: relative;}#sk-container-id-1 div.sk-item {position: relative;z-index: 1;}#sk-container-id-1 div.sk-parallel {display: flex;align-items: stretch;justify-content: center;background-color: white;position: relative;}#sk-container-id-1 div.sk-item::before, #sk-container-id-1 div.sk-parallel-item::before {content: \"\";position: absolute;border-left: 1px solid gray;box-sizing: border-box;top: 0;bottom: 0;left: 50%;z-index: -1;}#sk-container-id-1 div.sk-parallel-item {display: flex;flex-direction: column;z-index: 1;position: relative;background-color: white;}#sk-container-id-1 div.sk-parallel-item:first-child::after {align-self: flex-end;width: 50%;}#sk-container-id-1 div.sk-parallel-item:last-child::after {align-self: flex-start;width: 50%;}#sk-container-id-1 div.sk-parallel-item:only-child::after {width: 0;}#sk-container-id-1 div.sk-dashed-wrapped {border: 1px dashed gray;margin: 0 0.4em 0.5em 0.4em;box-sizing: border-box;padding-bottom: 0.4em;background-color: white;}#sk-container-id-1 div.sk-label label {font-family: monospace;font-weight: bold;display: inline-block;line-height: 1.2em;}#sk-container-id-1 div.sk-label-container {text-align: center;}#sk-container-id-1 div.sk-container {/* jupyter's `normalize.less` sets `[hidden] { display: none; }` but bootstrap.min.css set `[hidden] { display: none !important; }` so we also need the `!important` here to be able to override the default hidden behavior on the sphinx rendered scikit-learn.org. See: https://github.com/scikit-learn/scikit-learn/issues/21755 */display: inline-block !important;position: relative;}#sk-container-id-1 div.sk-text-repr-fallback {display: none;}</style><div id=\"sk-container-id-1\" class=\"sk-top-container\"><div class=\"sk-text-repr-fallback\"><pre>LinearRegression()</pre><b>In a Jupyter environment, please rerun this cell to show the HTML representation or trust the notebook. <br />On GitHub, the HTML representation is unable to render, please try loading this page with nbviewer.org.</b></div><div class=\"sk-container\" hidden><div class=\"sk-item\"><div class=\"sk-estimator sk-toggleable\"><input class=\"sk-toggleable__control sk-hidden--visually\" id=\"sk-estimator-id-1\" type=\"checkbox\" checked><label for=\"sk-estimator-id-1\" class=\"sk-toggleable__label sk-toggleable__label-arrow\">LinearRegression</label><div class=\"sk-toggleable__content\"><pre>LinearRegression()</pre></div></div></div></div></div>"
      ],
      "text/plain": [
       "LinearRegression()"
      ]
     },
     "execution_count": 12,
     "metadata": {},
     "output_type": "execute_result"
    }
   ],
   "source": [
    "from sklearn.linear_model import LinearRegression\n",
    "model = LinearRegression()\n",
    "model.fit(features_forfillingna, target_forfillingna)"
   ]
  },
  {
   "cell_type": "code",
   "execution_count": 13,
   "id": "cc5fe161-187e-4605-9940-0db6bf01ffb6",
   "metadata": {
    "tags": []
   },
   "outputs": [],
   "source": [
    "# Prediction\n",
    "target_pred = model.predict(df_ROS_extract.loc[:, ['환자통증정도', '입원기간', '연령', '체중', 'Large Lymphocyte']])\n"
   ]
  },
  {
   "cell_type": "code",
   "execution_count": 14,
   "id": "4e500ee4-413a-4252-9468-f1389594826c",
   "metadata": {
    "tags": []
   },
   "outputs": [
    {
     "data": {
      "text/plain": [
       "array([4.36540182, 4.25714142, 6.02211847, ..., 6.31144615, 5.40575204,\n",
       "       4.58886641])"
      ]
     },
     "execution_count": 14,
     "metadata": {},
     "output_type": "execute_result"
    }
   ],
   "source": [
    "target_pred"
   ]
  },
  {
   "cell_type": "code",
   "execution_count": 15,
   "id": "71c30078-ccf9-4042-b84d-c628e51023f9",
   "metadata": {
    "tags": []
   },
   "outputs": [],
   "source": [
    "def predict_missing_duration(row):\n",
    "    if pd.isnull(row['통증기간(월)']):\n",
    "        # 모델을 사용하여 결측치 예측\n",
    "        features_forfillingna = row[['환자통증정도', '입원기간', '연령', '체중', 'Large Lymphocyte']].values.reshape(1, -1)\n",
    "        predicted_duration = model.predict(features_forfillingna)\n",
    "        return predicted_duration[0]\n",
    "    else:\n",
    "        # 값이 있는 경우 그대로 반환\n",
    "        return row['통증기간(월)']"
   ]
  },
  {
   "cell_type": "code",
   "execution_count": 16,
   "id": "8edca11d-5ad7-46f3-93d2-b8659501130f",
   "metadata": {
    "tags": []
   },
   "outputs": [
    {
     "name": "stderr",
     "output_type": "stream",
     "text": [
      "C:\\Users\\user\\anaconda3\\Lib\\site-packages\\sklearn\\base.py:464: UserWarning: X does not have valid feature names, but LinearRegression was fitted with feature names\n",
      "  warnings.warn(\n",
      "C:\\Users\\user\\anaconda3\\Lib\\site-packages\\sklearn\\base.py:464: UserWarning: X does not have valid feature names, but LinearRegression was fitted with feature names\n",
      "  warnings.warn(\n",
      "C:\\Users\\user\\anaconda3\\Lib\\site-packages\\sklearn\\base.py:464: UserWarning: X does not have valid feature names, but LinearRegression was fitted with feature names\n",
      "  warnings.warn(\n",
      "C:\\Users\\user\\anaconda3\\Lib\\site-packages\\sklearn\\base.py:464: UserWarning: X does not have valid feature names, but LinearRegression was fitted with feature names\n",
      "  warnings.warn(\n",
      "C:\\Users\\user\\AppData\\Local\\Temp\\ipykernel_13464\\3946892064.py:1: SettingWithCopyWarning: \n",
      "A value is trying to be set on a copy of a slice from a DataFrame.\n",
      "Try using .loc[row_indexer,col_indexer] = value instead\n",
      "\n",
      "See the caveats in the documentation: https://pandas.pydata.org/pandas-docs/stable/user_guide/indexing.html#returning-a-view-versus-a-copy\n",
      "  df_ROS_extract['통증기간(월)_filledna'] = df_ROS_extract.apply(predict_missing_duration, axis=1)\n"
     ]
    }
   ],
   "source": [
    "df_ROS_extract['통증기간(월)_filledna'] = df_ROS_extract.apply(predict_missing_duration, axis=1)"
   ]
  },
  {
   "cell_type": "code",
   "execution_count": 18,
   "id": "a1c43577-2be7-4a84-b68f-a8c0ccc75cb7",
   "metadata": {
    "tags": []
   },
   "outputs": [
    {
     "data": {
      "text/plain": [
       "4"
      ]
     },
     "execution_count": 18,
     "metadata": {},
     "output_type": "execute_result"
    }
   ],
   "source": [
    "df_ROS_extract['통증기간(월)'].isnull().sum()"
   ]
  },
  {
   "cell_type": "markdown",
   "id": "21ee496c-06ce-4b86-bb4d-674613bf0797",
   "metadata": {},
   "source": [
    "### 방법 2"
   ]
  },
  {
   "cell_type": "code",
   "execution_count": 19,
   "id": "9158e41d-a477-4fe6-ab5b-15cea3a3ed3b",
   "metadata": {
    "tags": []
   },
   "outputs": [
    {
     "ename": "SyntaxError",
     "evalue": "invalid decimal literal (3298558693.py, line 1)",
     "output_type": "error",
     "traceback": [
      "\u001b[1;36m  Cell \u001b[1;32mIn[19], line 1\u001b[1;36m\u001b[0m\n\u001b[1;33m    'y_pred' 는  2D numpy array 형태이므로, 이를 flatten() 메소드를 사용해서  1D array 로 바꾸어주고,\u001b[0m\n\u001b[1;37m                ^\u001b[0m\n\u001b[1;31mSyntaxError\u001b[0m\u001b[1;31m:\u001b[0m invalid decimal literal\n"
     ]
    }
   ],
   "source": [
    "'y_pred' 는  2D numpy array 형태이므로, 이를 flatten() 메소드를 사용해서  1D array 로 바꾸어주고, \n",
    "이를  pd.Series() 메소드를 사용해서 Series 데이터 유형으로 변환을 해주었습니다.   \n",
    "inplace=True 옵션을 사용해서 df DataFrame 내에서 결측값이 선형회귀모형 추정값으로 대체되고 나서 저장되도록 하였습니다. "
   ]
  },
  {
   "cell_type": "code",
   "execution_count": 30,
   "id": "0de51c4b-fbbb-464f-8bb3-b0a72edb85f0",
   "metadata": {
    "tags": []
   },
   "outputs": [
    {
     "name": "stderr",
     "output_type": "stream",
     "text": [
      "C:\\Users\\user\\AppData\\Local\\Temp\\ipykernel_13464\\3294451843.py:1: SettingWithCopyWarning: \n",
      "A value is trying to be set on a copy of a slice from a DataFrame.\n",
      "Try using .loc[row_indexer,col_indexer] = value instead\n",
      "\n",
      "See the caveats in the documentation: https://pandas.pydata.org/pandas-docs/stable/user_guide/indexing.html#returning-a-view-versus-a-copy\n",
      "  df_ROS_extract['통증기간(월)_방법2']= df_ROS_extract['통증기간(월)'].fillna(pd.Series(target_pred.flatten())) #inplace=True\n"
     ]
    }
   ],
   "source": [
    "df_ROS_extract['통증기간(월)_방법2']= df_ROS_extract['통증기간(월)'].fillna(pd.Series(target_pred.flatten())) #inplace=True"
   ]
  },
  {
   "cell_type": "code",
   "execution_count": 31,
   "id": "64156a19-e99d-437f-913c-77e22715db0d",
   "metadata": {
    "tags": []
   },
   "outputs": [
    {
     "data": {
      "text/plain": [
       "0"
      ]
     },
     "execution_count": 31,
     "metadata": {},
     "output_type": "execute_result"
    }
   ],
   "source": [
    "df_ROS_extract['통증기간(월)_방법2'].isnull().sum()"
   ]
  },
  {
   "cell_type": "code",
   "execution_count": 28,
   "id": "0c53d793-5940-407a-933f-1fbe8ba1ee6b",
   "metadata": {
    "tags": []
   },
   "outputs": [
    {
     "data": {
      "text/plain": [
       "0        1.0\n",
       "1        1.0\n",
       "2        1.0\n",
       "3        2.0\n",
       "4        1.0\n",
       "        ... \n",
       "1889    12.0\n",
       "1890     6.0\n",
       "1891     1.0\n",
       "1892    24.0\n",
       "1893     6.0\n",
       "Name: 통증기간(월)_방법2, Length: 1894, dtype: float64"
      ]
     },
     "execution_count": 28,
     "metadata": {},
     "output_type": "execute_result"
    }
   ],
   "source": [
    "df_ROS_extract['통증기간(월)_방법2']"
   ]
  },
  {
   "cell_type": "markdown",
   "id": "2dd72774-cd14-4464-a6ce-65cb0538a48d",
   "metadata": {},
   "source": [
    "### 방법 3"
   ]
  },
  {
   "cell_type": "code",
   "execution_count": 33,
   "id": "c8968288-87bd-42af-9e40-1e0d35215c82",
   "metadata": {
    "tags": []
   },
   "outputs": [
    {
     "ename": "SyntaxError",
     "evalue": "invalid syntax (3896289228.py, line 1)",
     "output_type": "error",
     "traceback": [
      "\u001b[1;36m  Cell \u001b[1;32mIn[33], line 1\u001b[1;36m\u001b[0m\n\u001b[1;33m    numpy의 where() 메소드를 사용해서,\u001b[0m\n\u001b[1;37m           ^\u001b[0m\n\u001b[1;31mSyntaxError\u001b[0m\u001b[1;31m:\u001b[0m invalid syntax\n"
     ]
    }
   ],
   "source": [
    " numpy의 where() 메소드를 사용해서,  \n",
    "    결측값인 경우  (즉,  isnull() 이 True)  pd.Series(y_pred.flatten()) 값을 가져옥,\n",
    "    결측값이 아닌 경우 기존 값을 가져와서  'whole_weight' 에 값을 할당하도록 "
   ]
  },
  {
   "cell_type": "code",
   "execution_count": 34,
   "id": "ae5204c9-790e-4967-8711-8b0f382821af",
   "metadata": {
    "tags": []
   },
   "outputs": [],
   "source": [
    "import numpy as np"
   ]
  },
  {
   "cell_type": "code",
   "execution_count": 35,
   "id": "7832d412-ffea-49b2-b2e3-4f7e02be73e7",
   "metadata": {
    "tags": []
   },
   "outputs": [
    {
     "name": "stderr",
     "output_type": "stream",
     "text": [
      "C:\\Users\\user\\AppData\\Local\\Temp\\ipykernel_13464\\2847561941.py:1: SettingWithCopyWarning: \n",
      "A value is trying to be set on a copy of a slice from a DataFrame.\n",
      "Try using .loc[row_indexer,col_indexer] = value instead\n",
      "\n",
      "See the caveats in the documentation: https://pandas.pydata.org/pandas-docs/stable/user_guide/indexing.html#returning-a-view-versus-a-copy\n",
      "  df_ROS_extract['통증기간(월)_방법3'] = np.where(df_ROS_extract['통증기간(월)_방법2'].isnull(),\n"
     ]
    }
   ],
   "source": [
    "df_ROS_extract['통증기간(월)_방법3'] = np.where(df_ROS_extract['통증기간(월)_방법2'].isnull(), \n",
    "                              pd.Series(target_pred.flatten()), \n",
    "                              df_ROS_extract['통증기간(월)_방법2'])"
   ]
  },
  {
   "cell_type": "code",
   "execution_count": 36,
   "id": "1ee03291-d94b-4982-a611-c2cc77f3bf9d",
   "metadata": {
    "tags": []
   },
   "outputs": [
    {
     "data": {
      "text/plain": [
       "0"
      ]
     },
     "execution_count": 36,
     "metadata": {},
     "output_type": "execute_result"
    }
   ],
   "source": [
    "df_ROS_extract['통증기간(월)_방법3'].isnull().sum()"
   ]
  },
  {
   "cell_type": "code",
   "execution_count": 37,
   "id": "77683403-c6e3-41b8-b96b-10fb1034f8ca",
   "metadata": {
    "tags": []
   },
   "outputs": [
    {
     "data": {
      "text/plain": [
       "0        1.0\n",
       "1        1.0\n",
       "2        1.0\n",
       "3        2.0\n",
       "4        1.0\n",
       "        ... \n",
       "1889    12.0\n",
       "1890     6.0\n",
       "1891     1.0\n",
       "1892    24.0\n",
       "1893     6.0\n",
       "Name: 통증기간(월)_방법3, Length: 1894, dtype: float64"
      ]
     },
     "execution_count": 37,
     "metadata": {},
     "output_type": "execute_result"
    }
   ],
   "source": [
    "df_ROS_extract['통증기간(월)_방법3']"
   ]
  },
  {
   "cell_type": "markdown",
   "id": "0ca1659e-d792-430f-837b-4b4a9431d3f2",
   "metadata": {},
   "source": [
    "####  ref :  https://rfriend.tistory.com/636"
   ]
  },
  {
   "cell_type": "code",
   "execution_count": 100,
   "id": "daff8fc4-ba9c-4b6a-ba55-4c033723380c",
   "metadata": {
    "collapsed": true,
    "jupyter": {
     "outputs_hidden": true
    },
    "tags": []
   },
   "outputs": [
    {
     "data": {
      "text/plain": [
       "Unnamed: 0                  0\n",
       "환자ID                        0\n",
       "Large Lymphocyte            0\n",
       "Location of herniation      0\n",
       "ODI                         0\n",
       "가족력                         0\n",
       "간질성폐질환                      0\n",
       "고혈압여부                       0\n",
       "과거수술횟수                      0\n",
       "당뇨여부                        0\n",
       "말초동맥질환여부                    0\n",
       "빈혈여부                        0\n",
       "성별                          0\n",
       "스테로이드치료                     0\n",
       "신부전여부                       0\n",
       "신장                          0\n",
       "심혈관질환                       0\n",
       "암발병여부                       0\n",
       "연령                          0\n",
       "우울증여부                       0\n",
       "입원기간                        0\n",
       "입원일자                        0\n",
       "종양진행여부                      0\n",
       "직업                        415\n",
       "체중                          0\n",
       "퇴원일자                        0\n",
       "헤모글로빈수치                     1\n",
       "혈전합병증여부                     0\n",
       "환자통증정도                      0\n",
       "흡연여부                        0\n",
       "통증기간(월)                     4\n",
       "수술기법                       81\n",
       "수술시간                       54\n",
       "수술실패여부                      0\n",
       "수술일자                        0\n",
       "재발여부                        0\n",
       "혈액형                         0\n",
       "전방디스크높이(mm)                 0\n",
       "후방디스크높이(mm)                 0\n",
       "지방축적도                       3\n",
       "Instability                 0\n",
       "MF + ES                     0\n",
       "Modic change                0\n",
       "PI                          4\n",
       "PT                          4\n",
       "Seg Angle(raw)              1\n",
       "Vaccum disc                 0\n",
       "골밀도                       896\n",
       "디스크단면적                      1\n",
       "디스크위치                       0\n",
       "척추이동척도                      0\n",
       "척추전방위증                      0\n",
       "dtype: int64"
      ]
     },
     "execution_count": 100,
     "metadata": {},
     "output_type": "execute_result"
    }
   ],
   "source": [
    "df_ROS.isnull().sum()"
   ]
  },
  {
   "cell_type": "markdown",
   "id": "37f7cc8b-3931-45df-a11d-f964d429878a",
   "metadata": {},
   "source": [
    "### KNN Algorithm (k-최근접 이웃 알고리즘)\n",
    "- NA값의 가장가까운 주변 k개의 평균을 NA값으로 대체하는 알고리즘"
   ]
  },
  {
   "cell_type": "code",
   "execution_count": 85,
   "id": "9c0364b7-3828-43c9-8068-1bc9f1063d14",
   "metadata": {
    "tags": []
   },
   "outputs": [],
   "source": [
    "from sklearn.impute import KNNImputer\n",
    "Imputer= KNNImputer()"
   ]
  },
  {
   "cell_type": "code",
   "execution_count": 86,
   "id": "a69bd8ca-bbfc-4846-9ec6-cc8906db8be1",
   "metadata": {
    "tags": []
   },
   "outputs": [],
   "source": [
    "imputer=KNNImputer(n_neighbors=5)"
   ]
  },
  {
   "cell_type": "code",
   "execution_count": 96,
   "id": "17e3e0b7-ec2f-4d0c-aeac-98f988a1ca22",
   "metadata": {
    "tags": []
   },
   "outputs": [],
   "source": [
    "# train = df_ROS['수술시간'].array.reshape(-1, 1)\n",
    "train = df_ROS['수술시간']"
   ]
  },
  {
   "cell_type": "code",
   "execution_count": null,
   "id": "ad1fb641-aea1-4c96-b7ae-b0e5c4c10a70",
   "metadata": {},
   "outputs": [],
   "source": [
    "train = df_ROS['수술시간'].array.reshape(-1, 1)\n",
    "filled_train=imputer.fit_transform(train)"
   ]
  },
  {
   "cell_type": "code",
   "execution_count": 109,
   "id": "5334fc5b-1e6e-4e71-a4f6-7dfd326c34c4",
   "metadata": {
    "tags": []
   },
   "outputs": [],
   "source": [
    "train = df_ROS['수술시간']  # return : array값\n",
    "# 사용하면 array값으로 나오기때문에 dataframe으로 바꿔주고 컬럼을가져옴\n",
    "df_ROS['수술시간']=pd.DataFrame(imputer.fit_transform(train_knn))"
   ]
  },
  {
   "cell_type": "code",
   "execution_count": 110,
   "id": "58bdfee7-87e6-4d67-9713-d257a535794b",
   "metadata": {
    "tags": []
   },
   "outputs": [
    {
     "data": {
      "text/plain": [
       "0"
      ]
     },
     "execution_count": 110,
     "metadata": {},
     "output_type": "execute_result"
    }
   ],
   "source": [
    "df_ROS['수술시간'].isnull().sum()"
   ]
  },
  {
   "cell_type": "code",
   "execution_count": 111,
   "id": "025c9972-e967-40aa-b2a8-f4bb49b485bf",
   "metadata": {
    "tags": []
   },
   "outputs": [
    {
     "data": {
      "text/plain": [
       "TELD    1673\n",
       "IELD     140\n",
       "Name: 수술기법, dtype: int64"
      ]
     },
     "execution_count": 111,
     "metadata": {},
     "output_type": "execute_result"
    }
   ],
   "source": [
    "df_ROS_extract['수술기법'].value_counts()"
   ]
  },
  {
   "cell_type": "code",
   "execution_count": 112,
   "id": "9d190746-d41d-4b0e-9995-dca151742f1a",
   "metadata": {
    "tags": []
   },
   "outputs": [],
   "source": [
    "# 매핑 딕셔너리 생성\n",
    "mapping_dict = {'TELD': 1, 'IELD': 2}"
   ]
  },
  {
   "cell_type": "code",
   "execution_count": 113,
   "id": "364f82c2-cc11-4e69-adb1-1f9b6fbcc6e9",
   "metadata": {
    "tags": []
   },
   "outputs": [
    {
     "name": "stderr",
     "output_type": "stream",
     "text": [
      "C:\\Users\\user\\AppData\\Local\\Temp\\ipykernel_13464\\72129879.py:2: SettingWithCopyWarning: \n",
      "A value is trying to be set on a copy of a slice from a DataFrame.\n",
      "Try using .loc[row_indexer,col_indexer] = value instead\n",
      "\n",
      "See the caveats in the documentation: https://pandas.pydata.org/pandas-docs/stable/user_guide/indexing.html#returning-a-view-versus-a-copy\n",
      "  df_ROS_extract['수술기법'] = df_ROS_extract['수술기법'].map(mapping_dict)\n"
     ]
    }
   ],
   "source": [
    "# '수술기법' 열의 값을 매핑 딕셔너리를 사용하여 변환\n",
    "df_ROS_extract['수술기법'] = df_ROS_extract['수술기법'].map(mapping_dict)"
   ]
  },
  {
   "cell_type": "code",
   "execution_count": 114,
   "id": "7b265590-3841-4cce-88d0-0c55b80e6602",
   "metadata": {
    "tags": []
   },
   "outputs": [],
   "source": [
    "train_knn = df_ROS_extract['수술기법'].array.reshape(-1, 1) "
   ]
  },
  {
   "cell_type": "code",
   "execution_count": 115,
   "id": "5b3b1b28-4e67-4e16-a73d-cda372649363",
   "metadata": {
    "tags": []
   },
   "outputs": [
    {
     "name": "stderr",
     "output_type": "stream",
     "text": [
      "C:\\Users\\user\\AppData\\Local\\Temp\\ipykernel_13464\\2990885729.py:1: SettingWithCopyWarning: \n",
      "A value is trying to be set on a copy of a slice from a DataFrame.\n",
      "Try using .loc[row_indexer,col_indexer] = value instead\n",
      "\n",
      "See the caveats in the documentation: https://pandas.pydata.org/pandas-docs/stable/user_guide/indexing.html#returning-a-view-versus-a-copy\n",
      "  df_ROS_extract['수술기법'] = imputer.fit_transform(train_knn)\n"
     ]
    }
   ],
   "source": [
    "df_ROS_extract['수술기법'] = imputer.fit_transform(train_knn)"
   ]
  },
  {
   "cell_type": "code",
   "execution_count": 116,
   "id": "e76299bf-bc1f-40e9-bf4d-67d9d3796f7e",
   "metadata": {
    "tags": []
   },
   "outputs": [
    {
     "data": {
      "text/plain": [
       "0"
      ]
     },
     "execution_count": 116,
     "metadata": {},
     "output_type": "execute_result"
    }
   ],
   "source": [
    "df_ROS_extract['수술기법'].isnull().sum()"
   ]
  },
  {
   "cell_type": "code",
   "execution_count": 117,
   "id": "d30372b8-8cd2-472c-9152-2d91ee4e98a3",
   "metadata": {
    "tags": []
   },
   "outputs": [
    {
     "data": {
      "text/plain": [
       "1.00000    1673\n",
       "2.00000     140\n",
       "1.07722      81\n",
       "Name: 수술기법, dtype: int64"
      ]
     },
     "execution_count": 117,
     "metadata": {},
     "output_type": "execute_result"
    }
   ],
   "source": [
    "df_ROS_extract['수술기법'].value_counts()"
   ]
  },
  {
   "cell_type": "code",
   "execution_count": null,
   "id": "f8bc2545-bd4c-4760-8d3d-c6d869ddc281",
   "metadata": {},
   "outputs": [],
   "source": []
  }
 ],
 "metadata": {
  "kernelspec": {
   "display_name": "Python 3 (ipykernel)",
   "language": "python",
   "name": "python3"
  },
  "language_info": {
   "codemirror_mode": {
    "name": "ipython",
    "version": 3
   },
   "file_extension": ".py",
   "mimetype": "text/x-python",
   "name": "python",
   "nbconvert_exporter": "python",
   "pygments_lexer": "ipython3",
   "version": "3.11.4"
  }
 },
 "nbformat": 4,
 "nbformat_minor": 5
}
