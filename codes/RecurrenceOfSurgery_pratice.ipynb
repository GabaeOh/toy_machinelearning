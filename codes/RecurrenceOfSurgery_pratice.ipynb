{
 "cells": [
  {
   "cell_type": "markdown",
   "id": "7d7adaf9-7df5-4137-8c1f-aab931ed1e31",
   "metadata": {},
   "source": [
    "## Quest\n",
    "- 업무분장(전처리, 모델학습).\n",
    "- RecurrenceOfSurgery.csv 사용\n",
    "- 목표변수 : 범주형, 설명변수 : 최소 6개 \n",
    "- 서비스 대상과 목표 설명, 변수 선택 이유"
   ]
  },
  {
   "cell_type": "markdown",
   "id": "d9d4870c-3b12-46eb-b831-1c492e46465d",
   "metadata": {},
   "source": [
    "## 분석 목적\n",
    "- 서비스 제공 대상 : 제약 회사 \n",
    "- 분석 목적 \n",
    "    - 치료 기간 및 효과 분석: '입원기간'과 '통증기간(월)' 등의 데이터를 활용하여 환자들의 치료 기간과 효과를 분석합니다. 특정 치료 방법이나 제품이 어떤 기간 동안 환자의 상태 개선에 도움이 되는지를 확인하여 제품 효과를 검토할 수 있습니다.\n",
    "    - 대상 환자 특성 파악: 선택된 컬럼을 기반으로 환자들의 연령, 성별, 체중 등 특성을 파악하여 제약회사의 대상 환자 프로필을 분석합니다. 이를 통해 어떤 연령층이나 성별에 해당하는 환자들에게 제품 또는 서비스를 맞춤화하여 제공할 수 있는지 확인합니다.\n",
    "    \n",
    "환자통증정도와 관련된 치료 기간 및 효과 분석, 환자 특성 변화 분석 등\n"
   ]
  },
  {
   "cell_type": "markdown",
   "id": "9641b68a-08bd-4179-b6ee-5e68e1f2c0ab",
   "metadata": {},
   "source": [
    "### 변수 선택 \n",
    "- 목표변수 : 환자통증정도\n",
    "- 설명변수 : '입원기간', '통증기간(월)', '연령', '체중', 'Large Lymphocyte', '수술기법'"
   ]
  },
  {
   "cell_type": "code",
   "execution_count": 79,
   "id": "0228afb6-7566-4078-99c6-8e720da4ef14",
   "metadata": {
    "tags": []
   },
   "outputs": [],
   "source": [
    "import pandas as pd"
   ]
  },
  {
   "cell_type": "code",
   "execution_count": 80,
   "id": "ee0e7e79-b31e-4276-957a-df1212414092",
   "metadata": {
    "tags": []
   },
   "outputs": [
    {
     "data": {
      "text/html": [
       "<div>\n",
       "<style scoped>\n",
       "    .dataframe tbody tr th:only-of-type {\n",
       "        vertical-align: middle;\n",
       "    }\n",
       "\n",
       "    .dataframe tbody tr th {\n",
       "        vertical-align: top;\n",
       "    }\n",
       "\n",
       "    .dataframe thead th {\n",
       "        text-align: right;\n",
       "    }\n",
       "</style>\n",
       "<table border=\"1\" class=\"dataframe\">\n",
       "  <thead>\n",
       "    <tr style=\"text-align: right;\">\n",
       "      <th></th>\n",
       "      <th>Unnamed: 0</th>\n",
       "      <th>환자ID</th>\n",
       "      <th>Large Lymphocyte</th>\n",
       "      <th>Location of herniation</th>\n",
       "      <th>ODI</th>\n",
       "      <th>가족력</th>\n",
       "      <th>간질성폐질환</th>\n",
       "      <th>고혈압여부</th>\n",
       "      <th>과거수술횟수</th>\n",
       "      <th>당뇨여부</th>\n",
       "      <th>...</th>\n",
       "      <th>Modic change</th>\n",
       "      <th>PI</th>\n",
       "      <th>PT</th>\n",
       "      <th>Seg Angle(raw)</th>\n",
       "      <th>Vaccum disc</th>\n",
       "      <th>골밀도</th>\n",
       "      <th>디스크단면적</th>\n",
       "      <th>디스크위치</th>\n",
       "      <th>척추이동척도</th>\n",
       "      <th>척추전방위증</th>\n",
       "    </tr>\n",
       "  </thead>\n",
       "  <tbody>\n",
       "    <tr>\n",
       "      <th>0</th>\n",
       "      <td>0</td>\n",
       "      <td>1PT</td>\n",
       "      <td>22.8</td>\n",
       "      <td>3</td>\n",
       "      <td>51.0</td>\n",
       "      <td>0.0</td>\n",
       "      <td>0</td>\n",
       "      <td>0</td>\n",
       "      <td>0</td>\n",
       "      <td>0</td>\n",
       "      <td>...</td>\n",
       "      <td>3</td>\n",
       "      <td>51.6</td>\n",
       "      <td>36.6</td>\n",
       "      <td>14.4</td>\n",
       "      <td>0</td>\n",
       "      <td>-1.01</td>\n",
       "      <td>2048.5</td>\n",
       "      <td>4</td>\n",
       "      <td>Down</td>\n",
       "      <td>0</td>\n",
       "    </tr>\n",
       "    <tr>\n",
       "      <th>1</th>\n",
       "      <td>1</td>\n",
       "      <td>2PT</td>\n",
       "      <td>44.9</td>\n",
       "      <td>4</td>\n",
       "      <td>26.0</td>\n",
       "      <td>0.0</td>\n",
       "      <td>0</td>\n",
       "      <td>0</td>\n",
       "      <td>0</td>\n",
       "      <td>0</td>\n",
       "      <td>...</td>\n",
       "      <td>0</td>\n",
       "      <td>40.8</td>\n",
       "      <td>7.2</td>\n",
       "      <td>17.8</td>\n",
       "      <td>0</td>\n",
       "      <td>-1.14</td>\n",
       "      <td>1753.1</td>\n",
       "      <td>4</td>\n",
       "      <td>Up</td>\n",
       "      <td>0</td>\n",
       "    </tr>\n",
       "  </tbody>\n",
       "</table>\n",
       "<p>2 rows × 52 columns</p>\n",
       "</div>"
      ],
      "text/plain": [
       "   Unnamed: 0 환자ID  Large Lymphocyte  Location of herniation   ODI  가족력  \\\n",
       "0           0  1PT              22.8                       3  51.0  0.0   \n",
       "1           1  2PT              44.9                       4  26.0  0.0   \n",
       "\n",
       "   간질성폐질환  고혈압여부  과거수술횟수  당뇨여부  ...  Modic change    PI    PT  Seg Angle(raw)  \\\n",
       "0       0      0       0     0  ...             3  51.6  36.6            14.4   \n",
       "1       0      0       0     0  ...             0  40.8   7.2            17.8   \n",
       "\n",
       "   Vaccum disc   골밀도  디스크단면적  디스크위치  척추이동척도  척추전방위증  \n",
       "0            0 -1.01  2048.5      4    Down       0  \n",
       "1            0 -1.14  1753.1      4      Up       0  \n",
       "\n",
       "[2 rows x 52 columns]"
      ]
     },
     "execution_count": 80,
     "metadata": {},
     "output_type": "execute_result"
    }
   ],
   "source": [
    "df_ROS = pd.read_csv('../dataset/RecurrenceOfSurgery.csv')\n",
    "df_ROS[:2]"
   ]
  },
  {
   "cell_type": "code",
   "execution_count": 81,
   "id": "3213e496-cec0-4e5f-9d68-78a6c7ea24b0",
   "metadata": {
    "tags": []
   },
   "outputs": [
    {
     "data": {
      "text/plain": [
       "Index(['Unnamed: 0', '환자ID', 'Large Lymphocyte', 'Location of herniation',\n",
       "       'ODI', '가족력', '간질성폐질환', '고혈압여부', '과거수술횟수', '당뇨여부', '말초동맥질환여부', '빈혈여부',\n",
       "       '성별', '스테로이드치료', '신부전여부', '신장', '심혈관질환', '암발병여부', '연령', '우울증여부', '입원기간',\n",
       "       '입원일자', '종양진행여부', '직업', '체중', '퇴원일자', '헤모글로빈수치', '혈전합병증여부', '환자통증정도',\n",
       "       '흡연여부', '통증기간(월)', '수술기법', '수술시간', '수술실패여부', '수술일자', '재발여부', '혈액형',\n",
       "       '전방디스크높이(mm)', '후방디스크높이(mm)', '지방축적도', 'Instability', 'MF + ES',\n",
       "       'Modic change', 'PI', 'PT', 'Seg Angle(raw)', 'Vaccum disc', '골밀도',\n",
       "       '디스크단면적', '디스크위치', '척추이동척도', '척추전방위증'],\n",
       "      dtype='object')"
      ]
     },
     "execution_count": 81,
     "metadata": {},
     "output_type": "execute_result"
    }
   ],
   "source": [
    "df_ROS.columns"
   ]
  },
  {
   "cell_type": "code",
   "execution_count": 82,
   "id": "f7310ea0-cbd9-464b-905b-aa85711e81d0",
   "metadata": {
    "tags": []
   },
   "outputs": [
    {
     "data": {
      "text/plain": [
       "7     885\n",
       "8     410\n",
       "9     172\n",
       "2     130\n",
       "10    107\n",
       "1      52\n",
       "5      46\n",
       "3      44\n",
       "6      40\n",
       "4       8\n",
       "Name: 환자통증정도, dtype: int64"
      ]
     },
     "execution_count": 82,
     "metadata": {},
     "output_type": "execute_result"
    }
   ],
   "source": [
    "df_ROS['환자통증정도'].value_counts()"
   ]
  },
  {
   "cell_type": "code",
   "execution_count": 83,
   "id": "d6cb3464-7c71-4bf3-bfa4-082d8d3a8522",
   "metadata": {
    "tags": []
   },
   "outputs": [],
   "source": [
    "df_ROS_extract = df_ROS[['환자통증정도','입원기간', '통증기간(월)', '연령', '체중', 'Large Lymphocyte', '수술기법']]"
   ]
  },
  {
   "cell_type": "code",
   "execution_count": 84,
   "id": "25d151ad-fdbd-48e4-85a6-19d977792f5f",
   "metadata": {
    "tags": []
   },
   "outputs": [
    {
     "name": "stdout",
     "output_type": "stream",
     "text": [
      "<class 'pandas.core.frame.DataFrame'>\n",
      "RangeIndex: 1894 entries, 0 to 1893\n",
      "Data columns (total 7 columns):\n",
      " #   Column            Non-Null Count  Dtype  \n",
      "---  ------            --------------  -----  \n",
      " 0   환자통증정도            1894 non-null   int64  \n",
      " 1   입원기간              1894 non-null   int64  \n",
      " 2   통증기간(월)           1890 non-null   float64\n",
      " 3   연령                1894 non-null   int64  \n",
      " 4   체중                1894 non-null   float64\n",
      " 5   Large Lymphocyte  1894 non-null   float64\n",
      " 6   수술기법              1813 non-null   object \n",
      "dtypes: float64(3), int64(3), object(1)\n",
      "memory usage: 103.7+ KB\n"
     ]
    }
   ],
   "source": [
    "df_ROS_extract.info() # 설명변수 중 범주형 : 수술기법"
   ]
  },
  {
   "cell_type": "markdown",
   "id": "b8632734-0c56-4e76-8cc4-a929194fb5cb",
   "metadata": {},
   "source": [
    "### Pre-Processing (전처리과정)"
   ]
  },
  {
   "cell_type": "markdown",
   "id": "10c619c8-cec6-45d6-844d-9941093bf190",
   "metadata": {},
   "source": [
    "#### Imputation (결측값 처리)"
   ]
  },
  {
   "cell_type": "code",
   "execution_count": 85,
   "id": "ea516515-5961-40d6-9a4f-b2c056c14dd1",
   "metadata": {
    "tags": []
   },
   "outputs": [
    {
     "data": {
      "text/plain": [
       "환자통증정도               0\n",
       "입원기간                 0\n",
       "통증기간(월)              4\n",
       "연령                   0\n",
       "체중                   0\n",
       "Large Lymphocyte     0\n",
       "수술기법                81\n",
       "dtype: int64"
      ]
     },
     "execution_count": 85,
     "metadata": {},
     "output_type": "execute_result"
    }
   ],
   "source": [
    "df_ROS_extract.isnull().sum()"
   ]
  },
  {
   "cell_type": "code",
   "execution_count": 86,
   "id": "497a217b-b95f-4d83-acd3-b69553b38f30",
   "metadata": {
    "tags": []
   },
   "outputs": [],
   "source": [
    "df_ROS_dropna = df_ROS_extract.dropna() # null값 제거한 df"
   ]
  },
  {
   "cell_type": "code",
   "execution_count": 87,
   "id": "471839b3-373e-4a69-9ae0-7bcb07ca4870",
   "metadata": {
    "tags": []
   },
   "outputs": [
    {
     "data": {
      "text/plain": [
       "환자통증정도              0\n",
       "입원기간                0\n",
       "통증기간(월)             0\n",
       "연령                  0\n",
       "체중                  0\n",
       "Large Lymphocyte    0\n",
       "수술기법                0\n",
       "dtype: int64"
      ]
     },
     "execution_count": 87,
     "metadata": {},
     "output_type": "execute_result"
    }
   ],
   "source": [
    "df_ROS_dropna.isnull().sum()"
   ]
  },
  {
   "cell_type": "markdown",
   "id": "965603aa-61db-4a8e-a719-630a78ddbddd",
   "metadata": {},
   "source": [
    "#### fill na using predictive model"
   ]
  },
  {
   "cell_type": "code",
   "execution_count": null,
   "id": "cf31d04c-a14c-43b1-8210-6d423672d1f7",
   "metadata": {},
   "outputs": [],
   "source": []
  },
  {
   "cell_type": "markdown",
   "id": "cda69062-d211-4023-b583-57ef4eb34755",
   "metadata": {},
   "source": [
    "#### Encoding with One Hot Encoding\n",
    "범주형 데이터를 연속형 숫자 데이터로 변환\n",
    "범주형 항목만큼 벡터화"
   ]
  },
  {
   "cell_type": "code",
   "execution_count": 88,
   "id": "ac00236c-53c2-449a-847e-38932beac6ce",
   "metadata": {
    "tags": []
   },
   "outputs": [
    {
     "data": {
      "text/plain": [
       "TELD    1669\n",
       "IELD     140\n",
       "Name: 수술기법, dtype: int64"
      ]
     },
     "execution_count": 88,
     "metadata": {},
     "output_type": "execute_result"
    }
   ],
   "source": [
    "df_ROS_dropna['수술기법'].value_counts()"
   ]
  },
  {
   "cell_type": "code",
   "execution_count": 89,
   "id": "0e2785a7-8eed-4b32-9039-49c6fd5f90f7",
   "metadata": {
    "tags": []
   },
   "outputs": [
    {
     "data": {
      "text/plain": [
       "[array(['IELD', 'TELD'], dtype=object)]"
      ]
     },
     "execution_count": 89,
     "metadata": {},
     "output_type": "execute_result"
    }
   ],
   "source": [
    "from sklearn.preprocessing import OneHotEncoder\n",
    "oneHotEncoder = OneHotEncoder() #인스턴스화 \n",
    "oneHotEncoder.fit(df_ROS_dropna[['수술기법']])# 학습\n",
    "oneHotEncoder.categories_"
   ]
  },
  {
   "cell_type": "code",
   "execution_count": 90,
   "id": "f7d8c2a5-d6dc-40bb-957d-7595e135311f",
   "metadata": {
    "tags": []
   },
   "outputs": [
    {
     "data": {
      "text/plain": [
       "array([[0., 1.],\n",
       "       [0., 1.],\n",
       "       [0., 1.],\n",
       "       ...,\n",
       "       [0., 1.],\n",
       "       [0., 1.],\n",
       "       [1., 0.]])"
      ]
     },
     "execution_count": 90,
     "metadata": {},
     "output_type": "execute_result"
    }
   ],
   "source": [
    "encoded_data = oneHotEncoder.transform(df_ROS_dropna[['수술기법']]).toarray()\n",
    "encoded_data"
   ]
  },
  {
   "cell_type": "code",
   "execution_count": 91,
   "id": "e46e0b63-7c71-4a87-9b1a-c9f38e613095",
   "metadata": {
    "tags": []
   },
   "outputs": [
    {
     "data": {
      "text/html": [
       "<div>\n",
       "<style scoped>\n",
       "    .dataframe tbody tr th:only-of-type {\n",
       "        vertical-align: middle;\n",
       "    }\n",
       "\n",
       "    .dataframe tbody tr th {\n",
       "        vertical-align: top;\n",
       "    }\n",
       "\n",
       "    .dataframe thead th {\n",
       "        text-align: right;\n",
       "    }\n",
       "</style>\n",
       "<table border=\"1\" class=\"dataframe\">\n",
       "  <thead>\n",
       "    <tr style=\"text-align: right;\">\n",
       "      <th></th>\n",
       "      <th>수술기법_IELD</th>\n",
       "      <th>수술기법_TELD</th>\n",
       "    </tr>\n",
       "  </thead>\n",
       "  <tbody>\n",
       "    <tr>\n",
       "      <th>0</th>\n",
       "      <td>0.0</td>\n",
       "      <td>1.0</td>\n",
       "    </tr>\n",
       "    <tr>\n",
       "      <th>1</th>\n",
       "      <td>0.0</td>\n",
       "      <td>1.0</td>\n",
       "    </tr>\n",
       "    <tr>\n",
       "      <th>2</th>\n",
       "      <td>0.0</td>\n",
       "      <td>1.0</td>\n",
       "    </tr>\n",
       "  </tbody>\n",
       "</table>\n",
       "</div>"
      ],
      "text/plain": [
       "   수술기법_IELD  수술기법_TELD\n",
       "0        0.0        1.0\n",
       "1        0.0        1.0\n",
       "2        0.0        1.0"
      ]
     },
     "execution_count": 91,
     "metadata": {},
     "output_type": "execute_result"
    }
   ],
   "source": [
    "df_encoded_data = pd.DataFrame(data=encoded_data, columns=oneHotEncoder.get_feature_names_out(['수술기법']))\n",
    "df_encoded_data[:3]"
   ]
  },
  {
   "cell_type": "code",
   "execution_count": 92,
   "id": "239e1591-4c2d-4168-98d1-123991ac976d",
   "metadata": {
    "tags": []
   },
   "outputs": [
    {
     "data": {
      "text/plain": [
       "(RangeIndex(start=0, stop=1809, step=1), (1809, 2))"
      ]
     },
     "execution_count": 92,
     "metadata": {},
     "output_type": "execute_result"
    }
   ],
   "source": [
    "df_encoded_data.index, df_encoded_data.shape"
   ]
  },
  {
   "cell_type": "code",
   "execution_count": 93,
   "id": "b14273bf-0186-47ee-87a8-fcf77d4a6a2d",
   "metadata": {
    "tags": []
   },
   "outputs": [
    {
     "data": {
      "text/plain": [
       "(Int64Index([   0,    1,    2,    3,    4,    5,    6,    7,    8,    9,\n",
       "             ...\n",
       "             1843, 1845, 1849, 1865, 1866, 1870, 1872, 1874, 1879, 1891],\n",
       "            dtype='int64', length=1809),\n",
       " (1809, 7))"
      ]
     },
     "execution_count": 93,
     "metadata": {},
     "output_type": "execute_result"
    }
   ],
   "source": [
    "df_ROS_dropna.index, df_ROS_dropna.shape ## 인덱스의 갯수가 맞음"
   ]
  },
  {
   "cell_type": "markdown",
   "id": "84fc98c2-6d1f-4fa2-a0e8-f3ad749d2535",
   "metadata": {},
   "source": [
    "#### concat(병합)"
   ]
  },
  {
   "cell_type": "code",
   "execution_count": 94,
   "id": "475fd27c-d47c-4e7b-807f-d0074d221891",
   "metadata": {
    "tags": []
   },
   "outputs": [
    {
     "data": {
      "text/html": [
       "<div>\n",
       "<style scoped>\n",
       "    .dataframe tbody tr th:only-of-type {\n",
       "        vertical-align: middle;\n",
       "    }\n",
       "\n",
       "    .dataframe tbody tr th {\n",
       "        vertical-align: top;\n",
       "    }\n",
       "\n",
       "    .dataframe thead th {\n",
       "        text-align: right;\n",
       "    }\n",
       "</style>\n",
       "<table border=\"1\" class=\"dataframe\">\n",
       "  <thead>\n",
       "    <tr style=\"text-align: right;\">\n",
       "      <th></th>\n",
       "      <th>환자통증정도</th>\n",
       "      <th>입원기간</th>\n",
       "      <th>통증기간(월)</th>\n",
       "      <th>연령</th>\n",
       "      <th>체중</th>\n",
       "      <th>Large Lymphocyte</th>\n",
       "      <th>수술기법</th>\n",
       "      <th>수술기법_IELD</th>\n",
       "      <th>수술기법_TELD</th>\n",
       "    </tr>\n",
       "  </thead>\n",
       "  <tbody>\n",
       "    <tr>\n",
       "      <th>0</th>\n",
       "      <td>10</td>\n",
       "      <td>2</td>\n",
       "      <td>1.0</td>\n",
       "      <td>66</td>\n",
       "      <td>60.3</td>\n",
       "      <td>22.8</td>\n",
       "      <td>TELD</td>\n",
       "      <td>0.0</td>\n",
       "      <td>1.0</td>\n",
       "    </tr>\n",
       "    <tr>\n",
       "      <th>1</th>\n",
       "      <td>10</td>\n",
       "      <td>1</td>\n",
       "      <td>1.0</td>\n",
       "      <td>47</td>\n",
       "      <td>71.7</td>\n",
       "      <td>44.9</td>\n",
       "      <td>TELD</td>\n",
       "      <td>0.0</td>\n",
       "      <td>1.0</td>\n",
       "    </tr>\n",
       "    <tr>\n",
       "      <th>2</th>\n",
       "      <td>7</td>\n",
       "      <td>1</td>\n",
       "      <td>1.0</td>\n",
       "      <td>39</td>\n",
       "      <td>77.1</td>\n",
       "      <td>53.0</td>\n",
       "      <td>TELD</td>\n",
       "      <td>0.0</td>\n",
       "      <td>1.0</td>\n",
       "    </tr>\n",
       "    <tr>\n",
       "      <th>3</th>\n",
       "      <td>7</td>\n",
       "      <td>1</td>\n",
       "      <td>2.0</td>\n",
       "      <td>40</td>\n",
       "      <td>74.2</td>\n",
       "      <td>54.7</td>\n",
       "      <td>TELD</td>\n",
       "      <td>0.0</td>\n",
       "      <td>1.0</td>\n",
       "    </tr>\n",
       "    <tr>\n",
       "      <th>4</th>\n",
       "      <td>7</td>\n",
       "      <td>2</td>\n",
       "      <td>1.0</td>\n",
       "      <td>42</td>\n",
       "      <td>80.7</td>\n",
       "      <td>53.8</td>\n",
       "      <td>TELD</td>\n",
       "      <td>0.0</td>\n",
       "      <td>1.0</td>\n",
       "    </tr>\n",
       "    <tr>\n",
       "      <th>...</th>\n",
       "      <td>...</td>\n",
       "      <td>...</td>\n",
       "      <td>...</td>\n",
       "      <td>...</td>\n",
       "      <td>...</td>\n",
       "      <td>...</td>\n",
       "      <td>...</td>\n",
       "      <td>...</td>\n",
       "      <td>...</td>\n",
       "    </tr>\n",
       "    <tr>\n",
       "      <th>1804</th>\n",
       "      <td>7</td>\n",
       "      <td>12</td>\n",
       "      <td>24.0</td>\n",
       "      <td>29</td>\n",
       "      <td>52.0</td>\n",
       "      <td>32.4</td>\n",
       "      <td>TELD</td>\n",
       "      <td>0.0</td>\n",
       "      <td>1.0</td>\n",
       "    </tr>\n",
       "    <tr>\n",
       "      <th>1805</th>\n",
       "      <td>8</td>\n",
       "      <td>2</td>\n",
       "      <td>36.0</td>\n",
       "      <td>21</td>\n",
       "      <td>64.0</td>\n",
       "      <td>42.4</td>\n",
       "      <td>TELD</td>\n",
       "      <td>0.0</td>\n",
       "      <td>1.0</td>\n",
       "    </tr>\n",
       "    <tr>\n",
       "      <th>1806</th>\n",
       "      <td>6</td>\n",
       "      <td>3</td>\n",
       "      <td>6.0</td>\n",
       "      <td>43</td>\n",
       "      <td>60.0</td>\n",
       "      <td>30.8</td>\n",
       "      <td>TELD</td>\n",
       "      <td>0.0</td>\n",
       "      <td>1.0</td>\n",
       "    </tr>\n",
       "    <tr>\n",
       "      <th>1807</th>\n",
       "      <td>8</td>\n",
       "      <td>3</td>\n",
       "      <td>4.0</td>\n",
       "      <td>20</td>\n",
       "      <td>70.0</td>\n",
       "      <td>5.4</td>\n",
       "      <td>TELD</td>\n",
       "      <td>0.0</td>\n",
       "      <td>1.0</td>\n",
       "    </tr>\n",
       "    <tr>\n",
       "      <th>1808</th>\n",
       "      <td>7</td>\n",
       "      <td>3</td>\n",
       "      <td>1.0</td>\n",
       "      <td>61</td>\n",
       "      <td>70.0</td>\n",
       "      <td>36.7</td>\n",
       "      <td>IELD</td>\n",
       "      <td>1.0</td>\n",
       "      <td>0.0</td>\n",
       "    </tr>\n",
       "  </tbody>\n",
       "</table>\n",
       "<p>1809 rows × 9 columns</p>\n",
       "</div>"
      ],
      "text/plain": [
       "      환자통증정도  입원기간  통증기간(월)  연령    체중  Large Lymphocyte  수술기법  수술기법_IELD  \\\n",
       "0         10     2      1.0  66  60.3              22.8  TELD        0.0   \n",
       "1         10     1      1.0  47  71.7              44.9  TELD        0.0   \n",
       "2          7     1      1.0  39  77.1              53.0  TELD        0.0   \n",
       "3          7     1      2.0  40  74.2              54.7  TELD        0.0   \n",
       "4          7     2      1.0  42  80.7              53.8  TELD        0.0   \n",
       "...      ...   ...      ...  ..   ...               ...   ...        ...   \n",
       "1804       7    12     24.0  29  52.0              32.4  TELD        0.0   \n",
       "1805       8     2     36.0  21  64.0              42.4  TELD        0.0   \n",
       "1806       6     3      6.0  43  60.0              30.8  TELD        0.0   \n",
       "1807       8     3      4.0  20  70.0               5.4  TELD        0.0   \n",
       "1808       7     3      1.0  61  70.0              36.7  IELD        1.0   \n",
       "\n",
       "      수술기법_TELD  \n",
       "0           1.0  \n",
       "1           1.0  \n",
       "2           1.0  \n",
       "3           1.0  \n",
       "4           1.0  \n",
       "...         ...  \n",
       "1804        1.0  \n",
       "1805        1.0  \n",
       "1806        1.0  \n",
       "1807        1.0  \n",
       "1808        0.0  \n",
       "\n",
       "[1809 rows x 9 columns]"
      ]
     },
     "execution_count": 94,
     "metadata": {},
     "output_type": "execute_result"
    }
   ],
   "source": [
    "df_ROS_concat = pd.concat([df_ROS_dropna.reset_index(drop=True), df_encoded_data.reset_index(drop=True)], axis=1 )\n",
    "df_ROS_concat"
   ]
  },
  {
   "cell_type": "code",
   "execution_count": 95,
   "id": "870f6f07-d67b-4a86-b390-4a6c21153c8c",
   "metadata": {
    "tags": []
   },
   "outputs": [
    {
     "data": {
      "text/plain": [
       "Index(['환자통증정도', '입원기간', '통증기간(월)', '연령', '체중', 'Large Lymphocyte', '수술기법',\n",
       "       '수술기법_IELD', '수술기법_TELD'],\n",
       "      dtype='object')"
      ]
     },
     "execution_count": 95,
     "metadata": {},
     "output_type": "execute_result"
    }
   ],
   "source": [
    "df_ROS_concat.columns"
   ]
  },
  {
   "cell_type": "markdown",
   "id": "266c16e3-14c2-482b-ae18-b49a4fa63102",
   "metadata": {},
   "source": [
    "#### Scaling - MinMaxScaler"
   ]
  },
  {
   "cell_type": "code",
   "execution_count": 96,
   "id": "d2dda922-d71e-42ce-87d7-27a4407a1439",
   "metadata": {
    "tags": []
   },
   "outputs": [],
   "source": [
    "target = df_ROS_concat['환자통증정도']\n",
    "features = df_ROS_concat.drop(columns=['환자통증정도','수술기법'])"
   ]
  },
  {
   "cell_type": "code",
   "execution_count": 97,
   "id": "a4e67b3c-1642-4fc5-b5de-19ae172845d2",
   "metadata": {
    "tags": []
   },
   "outputs": [
    {
     "data": {
      "text/plain": [
       "Index(['입원기간', '통증기간(월)', '연령', '체중', 'Large Lymphocyte', '수술기법_IELD',\n",
       "       '수술기법_TELD'],\n",
       "      dtype='object')"
      ]
     },
     "execution_count": 97,
     "metadata": {},
     "output_type": "execute_result"
    }
   ],
   "source": [
    "features.columns"
   ]
  },
  {
   "cell_type": "code",
   "execution_count": 98,
   "id": "d13a66be-f9f5-4e02-839f-1a64844486e8",
   "metadata": {
    "tags": []
   },
   "outputs": [],
   "source": [
    "from sklearn.preprocessing import MinMaxScaler\n",
    "minMaxScaler= MinMaxScaler()\n",
    "features = minMaxScaler.fit_transform(features)"
   ]
  },
  {
   "cell_type": "markdown",
   "id": "788cf09a-360c-4fb3-bd66-469216792608",
   "metadata": {
    "jp-MarkdownHeadingCollapsed": true,
    "tags": []
   },
   "source": [
    "#### Imbalanced Data Sampling\n",
    "-  Under Sampling : Tomek's Link "
   ]
  },
  {
   "cell_type": "code",
   "execution_count": 99,
   "id": "52e5c3f0-6870-435c-a1f2-d630f60e97a9",
   "metadata": {
    "tags": []
   },
   "outputs": [],
   "source": [
    "# from imblearn.under_sampling import TomekLinks\n",
    "# from sklearn.datasets import make_classification"
   ]
  },
  {
   "cell_type": "code",
   "execution_count": 100,
   "id": "0c0669e2-e1fd-433b-b0eb-be5d21520278",
   "metadata": {
    "tags": []
   },
   "outputs": [
    {
     "ename": "NameError",
     "evalue": "name 'make_classification' is not defined",
     "output_type": "error",
     "traceback": [
      "\u001b[1;31m---------------------------------------------------------------------------\u001b[0m",
      "\u001b[1;31mNameError\u001b[0m                                 Traceback (most recent call last)",
      "Cell \u001b[1;32mIn[100], line 1\u001b[0m\n\u001b[1;32m----> 1\u001b[0m features, target \u001b[38;5;241m=\u001b[39m make_classification(n_classes\u001b[38;5;241m=\u001b[39m\u001b[38;5;241m2\u001b[39m, class_sep\u001b[38;5;241m=\u001b[39m\u001b[38;5;241m2\u001b[39m,\n\u001b[0;32m      2\u001b[0m                     weights\u001b[38;5;241m=\u001b[39m[\u001b[38;5;241m0.3\u001b[39m, \u001b[38;5;241m0.7\u001b[39m], n_informative\u001b[38;5;241m=\u001b[39m\u001b[38;5;241m3\u001b[39m, n_redundant\u001b[38;5;241m=\u001b[39m\u001b[38;5;241m1\u001b[39m, flip_y\u001b[38;5;241m=\u001b[39m\u001b[38;5;241m0\u001b[39m,\n\u001b[0;32m      3\u001b[0m                     n_features\u001b[38;5;241m=\u001b[39m\u001b[38;5;241m20\u001b[39m, n_clusters_per_class\u001b[38;5;241m=\u001b[39m\u001b[38;5;241m1\u001b[39m, n_samples\u001b[38;5;241m=\u001b[39m\u001b[38;5;241m1000\u001b[39m, random_state\u001b[38;5;241m=\u001b[39m\u001b[38;5;241m10\u001b[39m)\n",
      "\u001b[1;31mNameError\u001b[0m: name 'make_classification' is not defined"
     ]
    }
   ],
   "source": [
    "features, target = make_classification(n_classes=2, class_sep=2,\n",
    "                    weights=[0.3, 0.7], n_informative=3, n_redundant=1, flip_y=0,\n",
    "                    n_features=20, n_clusters_per_class=1, n_samples=1000, random_state=10)"
   ]
  },
  {
   "cell_type": "code",
   "execution_count": null,
   "id": "4c133eca-7d95-45a7-9081-f99d7da8e7dd",
   "metadata": {
    "tags": []
   },
   "outputs": [],
   "source": [
    "features.shape, target.shape"
   ]
  },
  {
   "cell_type": "code",
   "execution_count": null,
   "id": "c985273c-589a-4b8f-9754-8dce3e14110c",
   "metadata": {
    "tags": []
   },
   "outputs": [],
   "source": [
    "from collections import Counter\n",
    "Counter(target)"
   ]
  },
  {
   "cell_type": "code",
   "execution_count": null,
   "id": "a01e47ef-1ee3-4ca7-a561-08ac3ecf644b",
   "metadata": {
    "tags": []
   },
   "outputs": [],
   "source": [
    "tomekLinks = TomekLinks() #인스턴스화\n",
    "features_resaple, target_resample = tomekLinks.fit_resample(features, target) #학습"
   ]
  },
  {
   "cell_type": "code",
   "execution_count": null,
   "id": "32d69d1c-c712-48a5-9806-d395f3d305c0",
   "metadata": {
    "tags": []
   },
   "outputs": [],
   "source": [
    "features_resaple.shape, target_resample.shape"
   ]
  },
  {
   "cell_type": "code",
   "execution_count": null,
   "id": "05e28d12-8172-485b-ab8b-aa735d5b6547",
   "metadata": {
    "tags": []
   },
   "outputs": [],
   "source": [
    "Counter(target_resample)"
   ]
  },
  {
   "cell_type": "markdown",
   "id": "b2f85229-7423-4b20-bbcd-ab533d215738",
   "metadata": {
    "tags": []
   },
   "source": [
    "#### 결측값을 채워놓기 위한 모델 학습 "
   ]
  },
  {
   "cell_type": "code",
   "execution_count": null,
   "id": "80d8ae5b-36ce-4abf-8619-bcb47bb3b24f",
   "metadata": {
    "tags": []
   },
   "outputs": [],
   "source": [
    "# from sklearn.tree import DecisionTreeClassifier\n",
    "# model = DecisionTreeClassifier() #인스턴스화 \n",
    "# model.fit(features, target) #모델 훈련"
   ]
  },
  {
   "cell_type": "code",
   "execution_count": 101,
   "id": "2e4c77d0-f9b9-4f95-91ac-20496f309834",
   "metadata": {
    "tags": []
   },
   "outputs": [],
   "source": [
    "from sklearn.tree import DecisionTreeRegressor\n",
    "# 결측치를 예측할 모델을 인스턴스화\n",
    "model = DecisionTreeRegressor()"
   ]
  },
  {
   "cell_type": "code",
   "execution_count": 122,
   "id": "72f77c71-8841-4013-9065-79930c9b1085",
   "metadata": {
    "tags": []
   },
   "outputs": [],
   "source": [
    "target_forfillingna = df_ROS_concat['통증기간(월)']\n",
    "features_forfillingna = df_ROS_concat.drop(columns=['통증기간(월)','수술기법','수술기법_IELD',\n",
    "       '수술기법_TELD'])"
   ]
  },
  {
   "cell_type": "code",
   "execution_count": 123,
   "id": "af6025e4-1add-409e-a98e-156833c0ccd3",
   "metadata": {
    "tags": []
   },
   "outputs": [
    {
     "data": {
      "text/plain": [
       "Index(['환자통증정도', '입원기간', '연령', '체중', 'Large Lymphocyte'], dtype='object')"
      ]
     },
     "execution_count": 123,
     "metadata": {},
     "output_type": "execute_result"
    }
   ],
   "source": [
    "features_forfillingna.columns"
   ]
  },
  {
   "cell_type": "code",
   "execution_count": 121,
   "id": "4969d964-bc47-4fc2-bc0c-1a636e1894c8",
   "metadata": {
    "tags": []
   },
   "outputs": [
    {
     "data": {
      "text/html": [
       "<style>#sk-container-id-11 {color: black;}#sk-container-id-11 pre{padding: 0;}#sk-container-id-11 div.sk-toggleable {background-color: white;}#sk-container-id-11 label.sk-toggleable__label {cursor: pointer;display: block;width: 100%;margin-bottom: 0;padding: 0.3em;box-sizing: border-box;text-align: center;}#sk-container-id-11 label.sk-toggleable__label-arrow:before {content: \"▸\";float: left;margin-right: 0.25em;color: #696969;}#sk-container-id-11 label.sk-toggleable__label-arrow:hover:before {color: black;}#sk-container-id-11 div.sk-estimator:hover label.sk-toggleable__label-arrow:before {color: black;}#sk-container-id-11 div.sk-toggleable__content {max-height: 0;max-width: 0;overflow: hidden;text-align: left;background-color: #f0f8ff;}#sk-container-id-11 div.sk-toggleable__content pre {margin: 0.2em;color: black;border-radius: 0.25em;background-color: #f0f8ff;}#sk-container-id-11 input.sk-toggleable__control:checked~div.sk-toggleable__content {max-height: 200px;max-width: 100%;overflow: auto;}#sk-container-id-11 input.sk-toggleable__control:checked~label.sk-toggleable__label-arrow:before {content: \"▾\";}#sk-container-id-11 div.sk-estimator input.sk-toggleable__control:checked~label.sk-toggleable__label {background-color: #d4ebff;}#sk-container-id-11 div.sk-label input.sk-toggleable__control:checked~label.sk-toggleable__label {background-color: #d4ebff;}#sk-container-id-11 input.sk-hidden--visually {border: 0;clip: rect(1px 1px 1px 1px);clip: rect(1px, 1px, 1px, 1px);height: 1px;margin: -1px;overflow: hidden;padding: 0;position: absolute;width: 1px;}#sk-container-id-11 div.sk-estimator {font-family: monospace;background-color: #f0f8ff;border: 1px dotted black;border-radius: 0.25em;box-sizing: border-box;margin-bottom: 0.5em;}#sk-container-id-11 div.sk-estimator:hover {background-color: #d4ebff;}#sk-container-id-11 div.sk-parallel-item::after {content: \"\";width: 100%;border-bottom: 1px solid gray;flex-grow: 1;}#sk-container-id-11 div.sk-label:hover label.sk-toggleable__label {background-color: #d4ebff;}#sk-container-id-11 div.sk-serial::before {content: \"\";position: absolute;border-left: 1px solid gray;box-sizing: border-box;top: 0;bottom: 0;left: 50%;z-index: 0;}#sk-container-id-11 div.sk-serial {display: flex;flex-direction: column;align-items: center;background-color: white;padding-right: 0.2em;padding-left: 0.2em;position: relative;}#sk-container-id-11 div.sk-item {position: relative;z-index: 1;}#sk-container-id-11 div.sk-parallel {display: flex;align-items: stretch;justify-content: center;background-color: white;position: relative;}#sk-container-id-11 div.sk-item::before, #sk-container-id-11 div.sk-parallel-item::before {content: \"\";position: absolute;border-left: 1px solid gray;box-sizing: border-box;top: 0;bottom: 0;left: 50%;z-index: -1;}#sk-container-id-11 div.sk-parallel-item {display: flex;flex-direction: column;z-index: 1;position: relative;background-color: white;}#sk-container-id-11 div.sk-parallel-item:first-child::after {align-self: flex-end;width: 50%;}#sk-container-id-11 div.sk-parallel-item:last-child::after {align-self: flex-start;width: 50%;}#sk-container-id-11 div.sk-parallel-item:only-child::after {width: 0;}#sk-container-id-11 div.sk-dashed-wrapped {border: 1px dashed gray;margin: 0 0.4em 0.5em 0.4em;box-sizing: border-box;padding-bottom: 0.4em;background-color: white;}#sk-container-id-11 div.sk-label label {font-family: monospace;font-weight: bold;display: inline-block;line-height: 1.2em;}#sk-container-id-11 div.sk-label-container {text-align: center;}#sk-container-id-11 div.sk-container {/* jupyter's `normalize.less` sets `[hidden] { display: none; }` but bootstrap.min.css set `[hidden] { display: none !important; }` so we also need the `!important` here to be able to override the default hidden behavior on the sphinx rendered scikit-learn.org. See: https://github.com/scikit-learn/scikit-learn/issues/21755 */display: inline-block !important;position: relative;}#sk-container-id-11 div.sk-text-repr-fallback {display: none;}</style><div id=\"sk-container-id-11\" class=\"sk-top-container\"><div class=\"sk-text-repr-fallback\"><pre>LinearRegression()</pre><b>In a Jupyter environment, please rerun this cell to show the HTML representation or trust the notebook. <br />On GitHub, the HTML representation is unable to render, please try loading this page with nbviewer.org.</b></div><div class=\"sk-container\" hidden><div class=\"sk-item\"><div class=\"sk-estimator sk-toggleable\"><input class=\"sk-toggleable__control sk-hidden--visually\" id=\"sk-estimator-id-11\" type=\"checkbox\" checked><label for=\"sk-estimator-id-11\" class=\"sk-toggleable__label sk-toggleable__label-arrow\">LinearRegression</label><div class=\"sk-toggleable__content\"><pre>LinearRegression()</pre></div></div></div></div></div>"
      ],
      "text/plain": [
       "LinearRegression()"
      ]
     },
     "execution_count": 121,
     "metadata": {},
     "output_type": "execute_result"
    }
   ],
   "source": [
    "from sklearn.linear_model import LinearRegression\n",
    "model = LinearRegression()\n",
    "model.fit(features_forfillingna, target_forfillingna)"
   ]
  },
  {
   "cell_type": "code",
   "execution_count": 124,
   "id": "3f7aa4a0-da00-482a-9fe7-1c9908396d1e",
   "metadata": {
    "tags": []
   },
   "outputs": [],
   "source": [
    "# Prediction\n",
    "target_pred = model.predict(df_ROS_extract.loc[:, ['환자통증정도', '입원기간', '연령', '체중', 'Large Lymphocyte']])\n"
   ]
  },
  {
   "cell_type": "code",
   "execution_count": 125,
   "id": "c3914c23-dbce-4604-8085-76b295cf904f",
   "metadata": {
    "tags": []
   },
   "outputs": [
    {
     "data": {
      "text/plain": [
       "array([4.36540182, 4.25714142, 6.02211847, ..., 6.31144615, 5.40575204,\n",
       "       4.58886641])"
      ]
     },
     "execution_count": 125,
     "metadata": {},
     "output_type": "execute_result"
    }
   ],
   "source": [
    "target_pred"
   ]
  },
  {
   "cell_type": "code",
   "execution_count": 136,
   "id": "11dd5161-9218-4320-b7a6-fe43a30c183a",
   "metadata": {
    "tags": []
   },
   "outputs": [],
   "source": [
    "def predict_missing_duration(row):\n",
    "    if pd.isnull(row['통증기간(월)']):\n",
    "        # 모델을 사용하여 결측치 예측\n",
    "        features_forfillingna = row[['환자통증정도', '입원기간', '연령', '체중', 'Large Lymphocyte']].values.reshape(1, -1)\n",
    "        predicted_duration = model.predict(features_forfillingna)\n",
    "        return predicted_duration[0]\n",
    "    else:\n",
    "        # 값이 있는 경우 그대로 반환\n",
    "        return row['통증기간(월)']"
   ]
  },
  {
   "cell_type": "code",
   "execution_count": 137,
   "id": "61dd07cf-e266-4c89-977c-ff4bc4005585",
   "metadata": {
    "tags": []
   },
   "outputs": [
    {
     "name": "stderr",
     "output_type": "stream",
     "text": [
      "C:\\Users\\user\\anaconda3\\Lib\\site-packages\\sklearn\\base.py:464: UserWarning: X does not have valid feature names, but LinearRegression was fitted with feature names\n",
      "  warnings.warn(\n",
      "C:\\Users\\user\\anaconda3\\Lib\\site-packages\\sklearn\\base.py:464: UserWarning: X does not have valid feature names, but LinearRegression was fitted with feature names\n",
      "  warnings.warn(\n",
      "C:\\Users\\user\\anaconda3\\Lib\\site-packages\\sklearn\\base.py:464: UserWarning: X does not have valid feature names, but LinearRegression was fitted with feature names\n",
      "  warnings.warn(\n",
      "C:\\Users\\user\\anaconda3\\Lib\\site-packages\\sklearn\\base.py:464: UserWarning: X does not have valid feature names, but LinearRegression was fitted with feature names\n",
      "  warnings.warn(\n",
      "C:\\Users\\user\\AppData\\Local\\Temp\\ipykernel_12104\\3946892064.py:1: SettingWithCopyWarning: \n",
      "A value is trying to be set on a copy of a slice from a DataFrame.\n",
      "Try using .loc[row_indexer,col_indexer] = value instead\n",
      "\n",
      "See the caveats in the documentation: https://pandas.pydata.org/pandas-docs/stable/user_guide/indexing.html#returning-a-view-versus-a-copy\n",
      "  df_ROS_extract['통증기간(월)_filledna'] = df_ROS_extract.apply(predict_missing_duration, axis=1)\n"
     ]
    }
   ],
   "source": [
    "df_ROS_extract['통증기간(월)_filledna'] = df_ROS_extract.apply(predict_missing_duration, axis=1)"
   ]
  },
  {
   "cell_type": "code",
   "execution_count": 139,
   "id": "1f274153-d5fc-40df-8474-86e43098b079",
   "metadata": {},
   "outputs": [
    {
     "data": {
      "text/plain": [
       "0"
      ]
     },
     "execution_count": 139,
     "metadata": {},
     "output_type": "execute_result"
    }
   ],
   "source": [
    "df_ROS_extract['통증기간(월)_filledna'].isnull().sum()"
   ]
  },
  {
   "cell_type": "code",
   "execution_count": null,
   "id": "afef5364-f846-4058-87c9-255576efb809",
   "metadata": {},
   "outputs": [],
   "source": []
  }
 ],
 "metadata": {
  "kernelspec": {
   "display_name": "Python 3 (ipykernel)",
   "language": "python",
   "name": "python3"
  },
  "language_info": {
   "codemirror_mode": {
    "name": "ipython",
    "version": 3
   },
   "file_extension": ".py",
   "mimetype": "text/x-python",
   "name": "python",
   "nbconvert_exporter": "python",
   "pygments_lexer": "ipython3",
   "version": "3.11.4"
  }
 },
 "nbformat": 4,
 "nbformat_minor": 5
}
