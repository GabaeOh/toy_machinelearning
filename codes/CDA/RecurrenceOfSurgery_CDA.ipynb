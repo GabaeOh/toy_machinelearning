{
 "cells": [
  {
   "cell_type": "markdown",
   "id": "2f028472-990a-4f67-aac2-886a5a271439",
   "metadata": {},
   "source": [
    "## 분석 결과\n",
    "- 입원기간은 환자통증정도에 영향을 미친다는 것을 확인함.\n",
    "- '통증기간(월)', '연령', '체중', 'Large Lymphocyte', '수술기법'는 환자통증정도에 영향을 끼치지 않음을 확인함."
   ]
  },
  {
   "cell_type": "code",
   "execution_count": 1,
   "id": "0957c552-bd86-462f-870f-f2d4cb49c0a8",
   "metadata": {
    "tags": []
   },
   "outputs": [],
   "source": [
    "import matplotlib.pyplot as plt\n",
    "import matplotlib as mpl \n",
    "mpl.rc('font',family='Malgun Gothic')\n",
    "import seaborn as sns\n",
    "import pandas as pd\n",
    "import numpy as np\n",
    "import scipy.stats as stats\n",
    "import matplotlib.pyplot as plt"
   ]
  },
  {
   "cell_type": "code",
   "execution_count": 3,
   "id": "8cc33209-a6b2-47b6-925a-bf133cecf21a",
   "metadata": {
    "tags": []
   },
   "outputs": [
    {
     "data": {
      "text/html": [
       "<div>\n",
       "<style scoped>\n",
       "    .dataframe tbody tr th:only-of-type {\n",
       "        vertical-align: middle;\n",
       "    }\n",
       "\n",
       "    .dataframe tbody tr th {\n",
       "        vertical-align: top;\n",
       "    }\n",
       "\n",
       "    .dataframe thead th {\n",
       "        text-align: right;\n",
       "    }\n",
       "</style>\n",
       "<table border=\"1\" class=\"dataframe\">\n",
       "  <thead>\n",
       "    <tr style=\"text-align: right;\">\n",
       "      <th></th>\n",
       "      <th>Unnamed: 0</th>\n",
       "      <th>환자ID</th>\n",
       "      <th>Large Lymphocyte</th>\n",
       "      <th>Location of herniation</th>\n",
       "      <th>ODI</th>\n",
       "      <th>가족력</th>\n",
       "      <th>간질성폐질환</th>\n",
       "      <th>고혈압여부</th>\n",
       "      <th>과거수술횟수</th>\n",
       "      <th>당뇨여부</th>\n",
       "      <th>...</th>\n",
       "      <th>Modic change</th>\n",
       "      <th>PI</th>\n",
       "      <th>PT</th>\n",
       "      <th>Seg Angle(raw)</th>\n",
       "      <th>Vaccum disc</th>\n",
       "      <th>골밀도</th>\n",
       "      <th>디스크단면적</th>\n",
       "      <th>디스크위치</th>\n",
       "      <th>척추이동척도</th>\n",
       "      <th>척추전방위증</th>\n",
       "    </tr>\n",
       "  </thead>\n",
       "  <tbody>\n",
       "    <tr>\n",
       "      <th>0</th>\n",
       "      <td>0</td>\n",
       "      <td>1PT</td>\n",
       "      <td>22.8</td>\n",
       "      <td>3</td>\n",
       "      <td>51.0</td>\n",
       "      <td>0.0</td>\n",
       "      <td>0</td>\n",
       "      <td>0</td>\n",
       "      <td>0</td>\n",
       "      <td>0</td>\n",
       "      <td>...</td>\n",
       "      <td>3</td>\n",
       "      <td>51.6</td>\n",
       "      <td>36.6</td>\n",
       "      <td>14.4</td>\n",
       "      <td>0</td>\n",
       "      <td>-1.01</td>\n",
       "      <td>2048.5</td>\n",
       "      <td>4</td>\n",
       "      <td>Down</td>\n",
       "      <td>0</td>\n",
       "    </tr>\n",
       "    <tr>\n",
       "      <th>1</th>\n",
       "      <td>1</td>\n",
       "      <td>2PT</td>\n",
       "      <td>44.9</td>\n",
       "      <td>4</td>\n",
       "      <td>26.0</td>\n",
       "      <td>0.0</td>\n",
       "      <td>0</td>\n",
       "      <td>0</td>\n",
       "      <td>0</td>\n",
       "      <td>0</td>\n",
       "      <td>...</td>\n",
       "      <td>0</td>\n",
       "      <td>40.8</td>\n",
       "      <td>7.2</td>\n",
       "      <td>17.8</td>\n",
       "      <td>0</td>\n",
       "      <td>-1.14</td>\n",
       "      <td>1753.1</td>\n",
       "      <td>4</td>\n",
       "      <td>Up</td>\n",
       "      <td>0</td>\n",
       "    </tr>\n",
       "  </tbody>\n",
       "</table>\n",
       "<p>2 rows × 52 columns</p>\n",
       "</div>"
      ],
      "text/plain": [
       "   Unnamed: 0 환자ID  Large Lymphocyte  Location of herniation   ODI  가족력  \\\n",
       "0           0  1PT              22.8                       3  51.0  0.0   \n",
       "1           1  2PT              44.9                       4  26.0  0.0   \n",
       "\n",
       "   간질성폐질환  고혈압여부  과거수술횟수  당뇨여부  ...  Modic change    PI    PT  Seg Angle(raw)  \\\n",
       "0       0      0       0     0  ...             3  51.6  36.6            14.4   \n",
       "1       0      0       0     0  ...             0  40.8   7.2            17.8   \n",
       "\n",
       "   Vaccum disc   골밀도  디스크단면적  디스크위치  척추이동척도  척추전방위증  \n",
       "0            0 -1.01  2048.5      4    Down       0  \n",
       "1            0 -1.14  1753.1      4      Up       0  \n",
       "\n",
       "[2 rows x 52 columns]"
      ]
     },
     "execution_count": 3,
     "metadata": {},
     "output_type": "execute_result"
    }
   ],
   "source": [
    "df = pd.read_csv('../../dataset/RecurrenceOfSurgery.csv')\n",
    "df.head(2)"
   ]
  },
  {
   "cell_type": "code",
   "execution_count": 39,
   "id": "669cc6f9-a3c8-40d2-862b-ffa3119431f7",
   "metadata": {
    "tags": []
   },
   "outputs": [],
   "source": [
    "#%matplotlib tk  \n",
    "%matplotlib inline"
   ]
  },
  {
   "cell_type": "code",
   "execution_count": 7,
   "id": "b1772737-94ab-46e8-a7c7-8906bdf7c3d3",
   "metadata": {
    "tags": []
   },
   "outputs": [],
   "source": [
    "df_ROS = df[['환자통증정도','입원기간', '통증기간(월)', '연령', '체중', 'Large Lymphocyte', '수술기법']]"
   ]
  },
  {
   "cell_type": "code",
   "execution_count": 8,
   "id": "4052c691-0a19-4e93-96ca-74cd0c241117",
   "metadata": {
    "tags": []
   },
   "outputs": [],
   "source": [
    "df_ROS = df_ROS.dropna()"
   ]
  },
  {
   "cell_type": "code",
   "execution_count": 9,
   "id": "c6848c8d-f0d9-493d-8877-e4a3a7fa2bf4",
   "metadata": {
    "tags": []
   },
   "outputs": [
    {
     "data": {
      "text/plain": [
       "환자통증정도              0\n",
       "입원기간                0\n",
       "통증기간(월)             0\n",
       "연령                  0\n",
       "체중                  0\n",
       "Large Lymphocyte    0\n",
       "수술기법                0\n",
       "dtype: int64"
      ]
     },
     "execution_count": 9,
     "metadata": {},
     "output_type": "execute_result"
    }
   ],
   "source": [
    "df_ROS.isnull().sum()"
   ]
  },
  {
   "cell_type": "markdown",
   "id": "3d8788f6-9571-472a-ac88-a93f073b8e43",
   "metadata": {},
   "source": [
    "## 목표변수 검증"
   ]
  },
  {
   "cell_type": "markdown",
   "id": "eafbcf69-7f4c-4a1d-b7c8-4a18d7ae72bb",
   "metadata": {},
   "source": [
    "### Y:연속형 : 단일 변수에 대한 정규성 여부 판단\n",
    "- 검증 갯수 따른 방법 선택 (레코드 갯수)\n",
    "    - 5천개보다 이하 : shapiro normality test\n",
    "    - 5천개보다 이상 : Anderson normality test"
   ]
  },
  {
   "cell_type": "markdown",
   "id": "a802eb17-bccd-4aa2-8c46-6822b0f36d42",
   "metadata": {},
   "source": [
    "#### 선정 변수: 환자통증정도\n",
    "- 분석 내용 : 환자통증정도이 정규 분포를 따르는가?\n",
    "    - 귀무가설 : 환자통증정도이 정규 분포이다.\n",
    "    - 대립가설 : 환자통증정도이 정규 분포가 아니다.\n",
    "- 분석결론 (기준:p-value 0.05) / P.value < 0.05 : 대립 참\n",
    "    - 통계 결론 : pvalue=8.12e-44이므로 대립가설 참\n",
    "    - 사실 결론 : 환자통증정도이 정규 분포가 아니다."
   ]
  },
  {
   "cell_type": "code",
   "execution_count": 40,
   "id": "a9c1eaf2-edb6-492e-878d-4e90e5ebea39",
   "metadata": {
    "tags": []
   },
   "outputs": [
    {
     "data": {
      "image/png": "[encoded data removed]",
      "text/plain": [
       "<Figure size 640x480 with 1 Axes>"
      ]
     },
     "metadata": {},
     "output_type": "display_data"
    }
   ],
   "source": [
    "sns.histplot(data=df_ROS, x='환자통증정도', kde=True)\n",
    "plt.show()"
   ]
  },
  {
   "cell_type": "code",
   "execution_count": 10,
   "id": "6ab628af-ec94-4591-8d3e-6250b0ba99db",
   "metadata": {
    "tags": []
   },
   "outputs": [
    {
     "data": {
      "text/plain": [
       "1809"
      ]
     },
     "execution_count": 10,
     "metadata": {},
     "output_type": "execute_result"
    }
   ],
   "source": [
    "df_ROS['환자통증정도'].count()"
   ]
  },
  {
   "cell_type": "code",
   "execution_count": 13,
   "id": "8f047c8e-5508-4677-85d7-b24db3f6b223",
   "metadata": {
    "tags": []
   },
   "outputs": [
    {
     "data": {
      "text/plain": [
       "ShapiroResult(statistic=0.7832338809967041, pvalue=8.127531093083939e-44)"
      ]
     },
     "execution_count": 13,
     "metadata": {},
     "output_type": "execute_result"
    }
   ],
   "source": [
    "stats.shapiro(df_ROS['환자통증정도'])\n",
    "\n",
    "## statistic=0.7832  pvalue=8.12e-44 -> 0.05이상임으로 대립가설 참 "
   ]
  },
  {
   "cell_type": "markdown",
   "id": "b2cabf8b-d6e2-4799-b60c-5bead0f07fe3",
   "metadata": {},
   "source": [
    "## 설명변수 검증\n",
    "- '입원기간', '통증기간(월)', '연령', '체중', 'Large Lymphocyte', '수술기법'"
   ]
  },
  {
   "cell_type": "markdown",
   "id": "535e1f07-3ae9-4daa-92f2-9f8b75b6b92c",
   "metadata": {},
   "source": [
    "### X:연속형 / Y:연속형 : 주로 상관관계 확인\n",
    "- correlation coefficient(상관계수)\n",
    "   -  -1 ~ 1\n",
    "   -  0에 가까우면 관계없음, -1로 갈수록 반비례, 1로 갈수로 정비례"
   ]
  },
  {
   "cell_type": "code",
   "execution_count": 14,
   "id": "1628f7aa-d80a-4c2f-ad86-0ea3429ca055",
   "metadata": {
    "tags": []
   },
   "outputs": [
    {
     "data": {
      "text/html": [
       "<div>\n",
       "<style scoped>\n",
       "    .dataframe tbody tr th:only-of-type {\n",
       "        vertical-align: middle;\n",
       "    }\n",
       "\n",
       "    .dataframe tbody tr th {\n",
       "        vertical-align: top;\n",
       "    }\n",
       "\n",
       "    .dataframe thead th {\n",
       "        text-align: right;\n",
       "    }\n",
       "</style>\n",
       "<table border=\"1\" class=\"dataframe\">\n",
       "  <thead>\n",
       "    <tr style=\"text-align: right;\">\n",
       "      <th></th>\n",
       "      <th>환자통증정도</th>\n",
       "      <th>입원기간</th>\n",
       "      <th>통증기간(월)</th>\n",
       "      <th>연령</th>\n",
       "      <th>체중</th>\n",
       "      <th>Large Lymphocyte</th>\n",
       "    </tr>\n",
       "  </thead>\n",
       "  <tbody>\n",
       "    <tr>\n",
       "      <th>count</th>\n",
       "      <td>1809.000000</td>\n",
       "      <td>1809.000000</td>\n",
       "      <td>1809.000000</td>\n",
       "      <td>1809.000000</td>\n",
       "      <td>1809.000000</td>\n",
       "      <td>1809.000000</td>\n",
       "    </tr>\n",
       "    <tr>\n",
       "      <th>mean</th>\n",
       "      <td>6.887783</td>\n",
       "      <td>1.657822</td>\n",
       "      <td>5.849033</td>\n",
       "      <td>41.493643</td>\n",
       "      <td>68.129630</td>\n",
       "      <td>39.314981</td>\n",
       "    </tr>\n",
       "    <tr>\n",
       "      <th>std</th>\n",
       "      <td>2.087179</td>\n",
       "      <td>1.995181</td>\n",
       "      <td>17.476286</td>\n",
       "      <td>13.495127</td>\n",
       "      <td>11.126712</td>\n",
       "      <td>13.688434</td>\n",
       "    </tr>\n",
       "    <tr>\n",
       "      <th>min</th>\n",
       "      <td>1.000000</td>\n",
       "      <td>0.000000</td>\n",
       "      <td>0.000000</td>\n",
       "      <td>15.000000</td>\n",
       "      <td>35.000000</td>\n",
       "      <td>0.000000</td>\n",
       "    </tr>\n",
       "    <tr>\n",
       "      <th>25%</th>\n",
       "      <td>7.000000</td>\n",
       "      <td>1.000000</td>\n",
       "      <td>1.000000</td>\n",
       "      <td>32.000000</td>\n",
       "      <td>59.800000</td>\n",
       "      <td>30.600000</td>\n",
       "    </tr>\n",
       "    <tr>\n",
       "      <th>50%</th>\n",
       "      <td>7.000000</td>\n",
       "      <td>1.000000</td>\n",
       "      <td>2.000000</td>\n",
       "      <td>41.000000</td>\n",
       "      <td>68.000000</td>\n",
       "      <td>40.300000</td>\n",
       "    </tr>\n",
       "    <tr>\n",
       "      <th>75%</th>\n",
       "      <td>8.000000</td>\n",
       "      <td>2.000000</td>\n",
       "      <td>4.000000</td>\n",
       "      <td>49.000000</td>\n",
       "      <td>75.000000</td>\n",
       "      <td>48.600000</td>\n",
       "    </tr>\n",
       "    <tr>\n",
       "      <th>max</th>\n",
       "      <td>10.000000</td>\n",
       "      <td>46.000000</td>\n",
       "      <td>360.000000</td>\n",
       "      <td>86.000000</td>\n",
       "      <td>136.100000</td>\n",
       "      <td>89.000000</td>\n",
       "    </tr>\n",
       "  </tbody>\n",
       "</table>\n",
       "</div>"
      ],
      "text/plain": [
       "            환자통증정도         입원기간      통증기간(월)           연령           체중  \\\n",
       "count  1809.000000  1809.000000  1809.000000  1809.000000  1809.000000   \n",
       "mean      6.887783     1.657822     5.849033    41.493643    68.129630   \n",
       "std       2.087179     1.995181    17.476286    13.495127    11.126712   \n",
       "min       1.000000     0.000000     0.000000    15.000000    35.000000   \n",
       "25%       7.000000     1.000000     1.000000    32.000000    59.800000   \n",
       "50%       7.000000     1.000000     2.000000    41.000000    68.000000   \n",
       "75%       8.000000     2.000000     4.000000    49.000000    75.000000   \n",
       "max      10.000000    46.000000   360.000000    86.000000   136.100000   \n",
       "\n",
       "       Large Lymphocyte  \n",
       "count       1809.000000  \n",
       "mean          39.314981  \n",
       "std           13.688434  \n",
       "min            0.000000  \n",
       "25%           30.600000  \n",
       "50%           40.300000  \n",
       "75%           48.600000  \n",
       "max           89.000000  "
      ]
     },
     "execution_count": 14,
     "metadata": {},
     "output_type": "execute_result"
    }
   ],
   "source": [
    "df_ROS[['환자통증정도','입원기간', '통증기간(월)', '연령', '체중', 'Large Lymphocyte', '수술기법']].describe()\n",
    "\n",
    "# count \n",
    "# mean : 연속형이라는 증거 "
   ]
  },
  {
   "cell_type": "markdown",
   "id": "8847aa9f-0b79-46df-b9bb-77b63b4e46d9",
   "metadata": {},
   "source": [
    "#### 선정 변수: 환자통증정도, 입원기간\n",
    "- 분석 내용 : 입원기간에 따라서 환자통증정도가 변화가 있는가?\n",
    "    - 귀무가설 : 입원기간에 따라서 환자통증정도가 변화가 없다.\n",
    "    - 대립가설 : 입원기간에 따라서 환자통증정도가 변화가 있다.\n",
    "- 분석결론 (기준:p-value 0.05) / P.value < 0.05 : 대립 참\n",
    "    - 통계 결론 : pvalue=2.0e-06이므로 대립가설 참\n",
    "    - 사실 결론 : 입원기간에 따라서 환자통증정도가 변화가 있다."
   ]
  },
  {
   "cell_type": "code",
   "execution_count": 15,
   "id": "4bc331c2-4421-432b-a2f4-793afcfb9794",
   "metadata": {
    "tags": []
   },
   "outputs": [
    {
     "data": {
      "text/html": [
       "<div>\n",
       "<style scoped>\n",
       "    .dataframe tbody tr th:only-of-type {\n",
       "        vertical-align: middle;\n",
       "    }\n",
       "\n",
       "    .dataframe tbody tr th {\n",
       "        vertical-align: top;\n",
       "    }\n",
       "\n",
       "    .dataframe thead th {\n",
       "        text-align: right;\n",
       "    }\n",
       "</style>\n",
       "<table border=\"1\" class=\"dataframe\">\n",
       "  <thead>\n",
       "    <tr style=\"text-align: right;\">\n",
       "      <th></th>\n",
       "      <th>환자통증정도</th>\n",
       "      <th>입원기간</th>\n",
       "    </tr>\n",
       "  </thead>\n",
       "  <tbody>\n",
       "    <tr>\n",
       "      <th>환자통증정도</th>\n",
       "      <td>1.000000</td>\n",
       "      <td>0.061035</td>\n",
       "    </tr>\n",
       "    <tr>\n",
       "      <th>입원기간</th>\n",
       "      <td>0.061035</td>\n",
       "      <td>1.000000</td>\n",
       "    </tr>\n",
       "  </tbody>\n",
       "</table>\n",
       "</div>"
      ],
      "text/plain": [
       "          환자통증정도      입원기간\n",
       "환자통증정도  1.000000  0.061035\n",
       "입원기간    0.061035  1.000000"
      ]
     },
     "execution_count": 15,
     "metadata": {},
     "output_type": "execute_result"
    }
   ],
   "source": [
    "df_ROS[['환자통증정도','입원기간']].corr()"
   ]
  },
  {
   "cell_type": "code",
   "execution_count": 17,
   "id": "d9e1913f-637e-43c9-b000-f3262854346d",
   "metadata": {
    "tags": []
   },
   "outputs": [
    {
     "data": {
      "text/plain": [
       "SignificanceResult(statistic=0.11147619787899554, pvalue=2.005325495241957e-06)"
      ]
     },
     "execution_count": 17,
     "metadata": {},
     "output_type": "execute_result"
    }
   ],
   "source": [
    "stats.spearmanr(df_ROS['입원기간'],df_ROS['환자통증정도'] )\n",
    "\n",
    "## statistic=0.11, pvalue=2.0e-06  -> 대립참, 상관계수 관계 없음 "
   ]
  },
  {
   "cell_type": "markdown",
   "id": "61a73969-a348-4508-ba27-9f336c3f4fdd",
   "metadata": {},
   "source": [
    "#### 선정 변수: 환자통증정도, 통증기간(월)\n",
    "- 분석 내용 : 통증기간에 따라서 환자통증정도가 변화가 있는가?\n",
    "    - 귀무가설 : 통증기간에 따라서 환자통증정도가 변화가 없다.\n",
    "    - 대립가설 : 통증기간에 따라서 환자통증정도가 변화가 있다.\n",
    "- 분석결론 (기준:p-value 0.05) / P.value < 0.05 : 대립 참\n",
    "    - 통계 결론 :pvalue=0.5147 이므로 귀무가설 참\n",
    "    - 사실 결론 : 통증기간에 따라서 환자통증정도가 변화가 없다."
   ]
  },
  {
   "cell_type": "code",
   "execution_count": 18,
   "id": "fa718704-1134-44e4-bca2-bc64c395c838",
   "metadata": {
    "tags": []
   },
   "outputs": [
    {
     "data": {
      "text/html": [
       "<div>\n",
       "<style scoped>\n",
       "    .dataframe tbody tr th:only-of-type {\n",
       "        vertical-align: middle;\n",
       "    }\n",
       "\n",
       "    .dataframe tbody tr th {\n",
       "        vertical-align: top;\n",
       "    }\n",
       "\n",
       "    .dataframe thead th {\n",
       "        text-align: right;\n",
       "    }\n",
       "</style>\n",
       "<table border=\"1\" class=\"dataframe\">\n",
       "  <thead>\n",
       "    <tr style=\"text-align: right;\">\n",
       "      <th></th>\n",
       "      <th>환자통증정도</th>\n",
       "      <th>통증기간(월)</th>\n",
       "    </tr>\n",
       "  </thead>\n",
       "  <tbody>\n",
       "    <tr>\n",
       "      <th>환자통증정도</th>\n",
       "      <td>1.000000</td>\n",
       "      <td>-0.071558</td>\n",
       "    </tr>\n",
       "    <tr>\n",
       "      <th>통증기간(월)</th>\n",
       "      <td>-0.071558</td>\n",
       "      <td>1.000000</td>\n",
       "    </tr>\n",
       "  </tbody>\n",
       "</table>\n",
       "</div>"
      ],
      "text/plain": [
       "           환자통증정도   통증기간(월)\n",
       "환자통증정도   1.000000 -0.071558\n",
       "통증기간(월) -0.071558  1.000000"
      ]
     },
     "execution_count": 18,
     "metadata": {},
     "output_type": "execute_result"
    }
   ],
   "source": [
    "df_ROS[['환자통증정도','통증기간(월)']].corr()"
   ]
  },
  {
   "cell_type": "code",
   "execution_count": 19,
   "id": "e78231a7-5164-4e51-a24c-a8ace873a2e8",
   "metadata": {
    "tags": []
   },
   "outputs": [
    {
     "data": {
      "text/plain": [
       "SignificanceResult(statistic=-0.015326587532261267, pvalue=0.5147474465377997)"
      ]
     },
     "execution_count": 19,
     "metadata": {},
     "output_type": "execute_result"
    }
   ],
   "source": [
    "stats.spearmanr(df_ROS['통증기간(월)'],df_ROS['환자통증정도'] )\n",
    "\n",
    "##statistic=-0.015, pvalue=0.5147 --> 귀무가설 참, 상관계수 관계없음"
   ]
  },
  {
   "cell_type": "markdown",
   "id": "c0e9372e-8dde-47ae-bbf9-bf93b17d7a08",
   "metadata": {},
   "source": [
    "#### 선정 변수: 환자통증정도, 연령\n",
    "- 분석 내용 : 연령에 따라서 환자통증정도가 변화가 있는가?\n",
    "    - 귀무가설 : 연령에 따라서 환자통증정도가 변화가 없다.\n",
    "    - 대립가설 : 연령에 따라서 환자통증정도가 변화가 있다.\n",
    "- 분석결론 (기준:p-value 0.05) / P.value < 0.05 : 대립 참\n",
    "    - 통계 결론 : pvalue=0.25이므로 귀무가설 참\n",
    "    - 사실 결론 : 연령에 따라서 환자통증정도가 변화가 없다."
   ]
  },
  {
   "cell_type": "code",
   "execution_count": 20,
   "id": "5937e80a-f4df-4421-849a-5dbbd41cf0d4",
   "metadata": {
    "tags": []
   },
   "outputs": [
    {
     "data": {
      "text/html": [
       "<div>\n",
       "<style scoped>\n",
       "    .dataframe tbody tr th:only-of-type {\n",
       "        vertical-align: middle;\n",
       "    }\n",
       "\n",
       "    .dataframe tbody tr th {\n",
       "        vertical-align: top;\n",
       "    }\n",
       "\n",
       "    .dataframe thead th {\n",
       "        text-align: right;\n",
       "    }\n",
       "</style>\n",
       "<table border=\"1\" class=\"dataframe\">\n",
       "  <thead>\n",
       "    <tr style=\"text-align: right;\">\n",
       "      <th></th>\n",
       "      <th>환자통증정도</th>\n",
       "      <th>연령</th>\n",
       "    </tr>\n",
       "  </thead>\n",
       "  <tbody>\n",
       "    <tr>\n",
       "      <th>환자통증정도</th>\n",
       "      <td>1.000000</td>\n",
       "      <td>0.059758</td>\n",
       "    </tr>\n",
       "    <tr>\n",
       "      <th>연령</th>\n",
       "      <td>0.059758</td>\n",
       "      <td>1.000000</td>\n",
       "    </tr>\n",
       "  </tbody>\n",
       "</table>\n",
       "</div>"
      ],
      "text/plain": [
       "          환자통증정도        연령\n",
       "환자통증정도  1.000000  0.059758\n",
       "연령      0.059758  1.000000"
      ]
     },
     "execution_count": 20,
     "metadata": {},
     "output_type": "execute_result"
    }
   ],
   "source": [
    "df_ROS[['환자통증정도','연령']].corr()"
   ]
  },
  {
   "cell_type": "code",
   "execution_count": 22,
   "id": "b096280d-a909-48dc-9521-b8dee293f9df",
   "metadata": {
    "tags": []
   },
   "outputs": [
    {
     "data": {
      "text/plain": [
       "SignificanceResult(statistic=0.026600054169033972, pvalue=0.2581474339061653)"
      ]
     },
     "execution_count": 22,
     "metadata": {},
     "output_type": "execute_result"
    }
   ],
   "source": [
    "stats.spearmanr(df_ROS['연령'],df_ROS['환자통증정도'] )\n",
    "\n",
    "## statistic=0.0266, pvalue=0.25 -->  귀무가설 참, 상관계수 관계없음"
   ]
  },
  {
   "cell_type": "markdown",
   "id": "969bcd1e-df3e-4f48-a050-82ac81f917d4",
   "metadata": {},
   "source": [
    "#### 선정 변수: 환자통증정도, 체중\n",
    "- 분석 내용 : 체중에 따라서 환자통증정도가 변화가 있는가?\n",
    "    - 귀무가설 : 체중에 따라서 환자통증정도가 변화가 없다.\n",
    "    - 대립가설 : 체중에 따라서 환자통증정도가 변화가 있다.\n",
    "- 분석결론 (기준:p-value 0.05) / P.value < 0.05 : 대립 참\n",
    "    - 통계 결론 : pvalue=0.275이므로 귀무가설 참\n",
    "    - 사실 결론 : 체중에 따라서 환자통증정도가 변화가 없다."
   ]
  },
  {
   "cell_type": "code",
   "execution_count": 23,
   "id": "ac52367e-d546-42ee-8e4f-3c0585930f24",
   "metadata": {
    "tags": []
   },
   "outputs": [
    {
     "data": {
      "text/html": [
       "<div>\n",
       "<style scoped>\n",
       "    .dataframe tbody tr th:only-of-type {\n",
       "        vertical-align: middle;\n",
       "    }\n",
       "\n",
       "    .dataframe tbody tr th {\n",
       "        vertical-align: top;\n",
       "    }\n",
       "\n",
       "    .dataframe thead th {\n",
       "        text-align: right;\n",
       "    }\n",
       "</style>\n",
       "<table border=\"1\" class=\"dataframe\">\n",
       "  <thead>\n",
       "    <tr style=\"text-align: right;\">\n",
       "      <th></th>\n",
       "      <th>환자통증정도</th>\n",
       "      <th>체중</th>\n",
       "    </tr>\n",
       "  </thead>\n",
       "  <tbody>\n",
       "    <tr>\n",
       "      <th>환자통증정도</th>\n",
       "      <td>1.000000</td>\n",
       "      <td>0.026377</td>\n",
       "    </tr>\n",
       "    <tr>\n",
       "      <th>체중</th>\n",
       "      <td>0.026377</td>\n",
       "      <td>1.000000</td>\n",
       "    </tr>\n",
       "  </tbody>\n",
       "</table>\n",
       "</div>"
      ],
      "text/plain": [
       "          환자통증정도        체중\n",
       "환자통증정도  1.000000  0.026377\n",
       "체중      0.026377  1.000000"
      ]
     },
     "execution_count": 23,
     "metadata": {},
     "output_type": "execute_result"
    }
   ],
   "source": [
    "df_ROS[['환자통증정도','체중']].corr()"
   ]
  },
  {
   "cell_type": "code",
   "execution_count": 25,
   "id": "7c326b80-642c-4d8a-bdfe-461c7a2b3c9d",
   "metadata": {
    "tags": []
   },
   "outputs": [
    {
     "data": {
      "text/plain": [
       "SignificanceResult(statistic=0.02566332608317305, pvalue=0.2752964129586925)"
      ]
     },
     "execution_count": 25,
     "metadata": {},
     "output_type": "execute_result"
    }
   ],
   "source": [
    "stats.spearmanr(df_ROS['체중'],df_ROS['환자통증정도'] )\n",
    "\n",
    "## statistic=0.025, pvalue=0.275 --> 귀무가설 참, 상관계수 관계없음"
   ]
  },
  {
   "cell_type": "markdown",
   "id": "ee0a87e4-4322-4e70-977c-10b1e6c26c29",
   "metadata": {},
   "source": [
    "#### 선정 변수: 환자통증정도, Large Lymphocyte\n",
    "- 분석 내용 : Large Lymphocyte에 따라서 환자통증정도가 변화가 있는가?\n",
    "    - 귀무가설 : Large Lymphocyte에 따라서 환자통증정도가 변화가 없다.\n",
    "    - 대립가설 : Large Lymphocyte에 따라서 환자통증정도가 변화가 있다.\n",
    "- 분석결론 (기준:p-value 0.05) / P.value < 0.05 : 대립 참\n",
    "    - 통계 결론 : pvalue=0.352 이므로 귀무가설 참\n",
    "    - 사실 결론 : 체중에 따라서 환자통증정도가 변화가 없다."
   ]
  },
  {
   "cell_type": "code",
   "execution_count": 26,
   "id": "9cd9b712-7a3d-4166-bc5c-2660a994761a",
   "metadata": {
    "tags": []
   },
   "outputs": [
    {
     "data": {
      "text/html": [
       "<div>\n",
       "<style scoped>\n",
       "    .dataframe tbody tr th:only-of-type {\n",
       "        vertical-align: middle;\n",
       "    }\n",
       "\n",
       "    .dataframe tbody tr th {\n",
       "        vertical-align: top;\n",
       "    }\n",
       "\n",
       "    .dataframe thead th {\n",
       "        text-align: right;\n",
       "    }\n",
       "</style>\n",
       "<table border=\"1\" class=\"dataframe\">\n",
       "  <thead>\n",
       "    <tr style=\"text-align: right;\">\n",
       "      <th></th>\n",
       "      <th>환자통증정도</th>\n",
       "      <th>Large Lymphocyte</th>\n",
       "    </tr>\n",
       "  </thead>\n",
       "  <tbody>\n",
       "    <tr>\n",
       "      <th>환자통증정도</th>\n",
       "      <td>1.000000</td>\n",
       "      <td>-0.019204</td>\n",
       "    </tr>\n",
       "    <tr>\n",
       "      <th>Large Lymphocyte</th>\n",
       "      <td>-0.019204</td>\n",
       "      <td>1.000000</td>\n",
       "    </tr>\n",
       "  </tbody>\n",
       "</table>\n",
       "</div>"
      ],
      "text/plain": [
       "                    환자통증정도  Large Lymphocyte\n",
       "환자통증정도            1.000000         -0.019204\n",
       "Large Lymphocyte -0.019204          1.000000"
      ]
     },
     "execution_count": 26,
     "metadata": {},
     "output_type": "execute_result"
    }
   ],
   "source": [
    "df_ROS[['환자통증정도','Large Lymphocyte']].corr()"
   ]
  },
  {
   "cell_type": "code",
   "execution_count": 27,
   "id": "4463e8db-d64e-4f16-984b-53dcec6131e0",
   "metadata": {
    "tags": []
   },
   "outputs": [
    {
     "data": {
      "text/plain": [
       "SignificanceResult(statistic=-0.021865498120926672, pvalue=0.3526512066072861)"
      ]
     },
     "execution_count": 27,
     "metadata": {},
     "output_type": "execute_result"
    }
   ],
   "source": [
    "stats.spearmanr(df_ROS['Large Lymphocyte'],df_ROS['환자통증정도'] )\n",
    "\n",
    "## statistic=-0.021, pvalue=0.352 --> 귀무가설 참, 상관계수 관계없음"
   ]
  },
  {
   "cell_type": "markdown",
   "id": "1e1e01ab-3f5e-4bc9-82dc-7ecea4ca12a1",
   "metadata": {},
   "source": [
    "### x : 범주형 / Y:연속형 : 범주형 따른 상관관계 확인"
   ]
  },
  {
   "cell_type": "markdown",
   "id": "1c0c32e0-2ed0-4338-bbc4-a5dc877af371",
   "metadata": {},
   "source": [
    "### 선정 변수: 수술기법(항목 2), 환자통증정도(비정규분포)- Wilcoxon Test\n",
    "- 분석 내용 : 수술기법에 따라 환자통증정도의 평균이 차이가 있는가?\n",
    "    - 귀무가설 : 입원기간 평균에 차이 없다.\n",
    "    - 대립가설 : 입원기간 평균에 차이 있다.\n",
    "- 분석결론 (기준:p-value 0.05) / P.value < 0.05 : 대립 참\n",
    "    - 통계 결론 : pvalue=1.0, 귀무가설 참\n",
    "    - 사실 결론 : 입원기간 평균에 차이 없다."
   ]
  },
  {
   "cell_type": "code",
   "execution_count": 28,
   "id": "e49b6fa5-c9c3-4265-8d57-2bb743596ca3",
   "metadata": {
    "tags": []
   },
   "outputs": [
    {
     "data": {
      "image/png": "[encoded data removed]",
      "text/plain": [
       "<Figure size 640x480 with 1 Axes>"
      ]
     },
     "metadata": {},
     "output_type": "display_data"
    }
   ],
   "source": [
    "sns.countplot(data=df_ROS, x='수술기법')\n",
    "plt.show()"
   ]
  },
  {
   "cell_type": "code",
   "execution_count": 29,
   "id": "54945b4a-5a06-41c1-8a1e-69f1906bdd16",
   "metadata": {
    "tags": []
   },
   "outputs": [
    {
     "data": {
      "text/plain": [
       "TELD    1669\n",
       "IELD     140\n",
       "Name: 수술기법, dtype: int64"
      ]
     },
     "execution_count": 29,
     "metadata": {},
     "output_type": "execute_result"
    }
   ],
   "source": [
    "df_ROS['수술기법'].value_counts() \n",
    "\n",
    "# 2집단의 범주"
   ]
  },
  {
   "cell_type": "code",
   "execution_count": 30,
   "id": "7b9dd125-d0de-4346-ac15-a7f637f7543d",
   "metadata": {
    "tags": []
   },
   "outputs": [
    {
     "data": {
      "text/html": [
       "<div>\n",
       "<style scoped>\n",
       "    .dataframe tbody tr th:only-of-type {\n",
       "        vertical-align: middle;\n",
       "    }\n",
       "\n",
       "    .dataframe tbody tr th {\n",
       "        vertical-align: top;\n",
       "    }\n",
       "\n",
       "    .dataframe thead th {\n",
       "        text-align: right;\n",
       "    }\n",
       "</style>\n",
       "<table border=\"1\" class=\"dataframe\">\n",
       "  <thead>\n",
       "    <tr style=\"text-align: right;\">\n",
       "      <th></th>\n",
       "      <th>환자통증정도</th>\n",
       "      <th>수술기법</th>\n",
       "    </tr>\n",
       "  </thead>\n",
       "  <tbody>\n",
       "    <tr>\n",
       "      <th>0</th>\n",
       "      <td>10</td>\n",
       "      <td>TELD</td>\n",
       "    </tr>\n",
       "    <tr>\n",
       "      <th>1</th>\n",
       "      <td>10</td>\n",
       "      <td>TELD</td>\n",
       "    </tr>\n",
       "  </tbody>\n",
       "</table>\n",
       "</div>"
      ],
      "text/plain": [
       "   환자통증정도  수술기법\n",
       "0      10  TELD\n",
       "1      10  TELD"
      ]
     },
     "execution_count": 30,
     "metadata": {},
     "output_type": "execute_result"
    }
   ],
   "source": [
    "df_method = df_ROS[['환자통증정도','수술기법']]\n",
    "df_method[:2]"
   ]
  },
  {
   "cell_type": "code",
   "execution_count": 31,
   "id": "bfb60c7f-389e-4a5d-ba8f-e7453c58bdc8",
   "metadata": {
    "tags": []
   },
   "outputs": [
    {
     "data": {
      "text/html": [
       "<div>\n",
       "<style scoped>\n",
       "    .dataframe tbody tr th:only-of-type {\n",
       "        vertical-align: middle;\n",
       "    }\n",
       "\n",
       "    .dataframe tbody tr th {\n",
       "        vertical-align: top;\n",
       "    }\n",
       "\n",
       "    .dataframe thead th {\n",
       "        text-align: right;\n",
       "    }\n",
       "</style>\n",
       "<table border=\"1\" class=\"dataframe\">\n",
       "  <thead>\n",
       "    <tr style=\"text-align: right;\">\n",
       "      <th></th>\n",
       "      <th>환자통증정도</th>\n",
       "      <th>수술기법</th>\n",
       "    </tr>\n",
       "  </thead>\n",
       "  <tbody>\n",
       "    <tr>\n",
       "      <th>0</th>\n",
       "      <td>10</td>\n",
       "      <td>TELD</td>\n",
       "    </tr>\n",
       "    <tr>\n",
       "      <th>1</th>\n",
       "      <td>10</td>\n",
       "      <td>TELD</td>\n",
       "    </tr>\n",
       "  </tbody>\n",
       "</table>\n",
       "</div>"
      ],
      "text/plain": [
       "   환자통증정도  수술기법\n",
       "0      10  TELD\n",
       "1      10  TELD"
      ]
     },
     "execution_count": 31,
     "metadata": {},
     "output_type": "execute_result"
    }
   ],
   "source": [
    "df_TELD = df_method[df_method['수술기법'] == 'TELD']\n",
    "df_TELD[:2]"
   ]
  },
  {
   "cell_type": "code",
   "execution_count": 32,
   "id": "891105c6-7dd2-4cb2-9e22-e53f7a6cafa5",
   "metadata": {
    "tags": []
   },
   "outputs": [
    {
     "data": {
      "text/html": [
       "<div>\n",
       "<style scoped>\n",
       "    .dataframe tbody tr th:only-of-type {\n",
       "        vertical-align: middle;\n",
       "    }\n",
       "\n",
       "    .dataframe tbody tr th {\n",
       "        vertical-align: top;\n",
       "    }\n",
       "\n",
       "    .dataframe thead th {\n",
       "        text-align: right;\n",
       "    }\n",
       "</style>\n",
       "<table border=\"1\" class=\"dataframe\">\n",
       "  <thead>\n",
       "    <tr style=\"text-align: right;\">\n",
       "      <th></th>\n",
       "      <th>환자통증정도</th>\n",
       "      <th>수술기법</th>\n",
       "    </tr>\n",
       "  </thead>\n",
       "  <tbody>\n",
       "    <tr>\n",
       "      <th>0</th>\n",
       "      <td>10</td>\n",
       "      <td>TELD</td>\n",
       "    </tr>\n",
       "    <tr>\n",
       "      <th>1</th>\n",
       "      <td>10</td>\n",
       "      <td>TELD</td>\n",
       "    </tr>\n",
       "  </tbody>\n",
       "</table>\n",
       "</div>"
      ],
      "text/plain": [
       "   환자통증정도  수술기법\n",
       "0      10  TELD\n",
       "1      10  TELD"
      ]
     },
     "execution_count": 32,
     "metadata": {},
     "output_type": "execute_result"
    }
   ],
   "source": [
    "df_IELD = df_method[df_method['수술기법'] == 'IELD']\n",
    "df_TELD[:2]"
   ]
  },
  {
   "cell_type": "code",
   "execution_count": 34,
   "id": "74856fef-811f-4428-8ab2-fc05341c347f",
   "metadata": {
    "tags": []
   },
   "outputs": [
    {
     "data": {
      "text/plain": [
       "RanksumsResult(statistic=0.0, pvalue=1.0)"
      ]
     },
     "execution_count": 34,
     "metadata": {},
     "output_type": "execute_result"
    }
   ],
   "source": [
    "stats.ranksums(df_TELD['환자통증정도'], df_TELD['환자통증정도'])\n",
    "\n",
    "## statistic=0.0, pvalue=1.0 -> 0.05보다 큼, 귀무가설 참 "
   ]
  },
  {
   "cell_type": "code",
   "execution_count": null,
   "id": "263ba0a0-19f4-49ce-acd5-d32a8e08a702",
   "metadata": {},
   "outputs": [],
   "source": []
  }
 ],
 "metadata": {
  "kernelspec": {
   "display_name": "Python 3 (ipykernel)",
   "language": "python",
   "name": "python3"
  },
  "language_info": {
   "codemirror_mode": {
    "name": "ipython",
    "version": 3
   },
   "file_extension": ".py",
   "mimetype": "text/x-python",
   "name": "python",
   "nbconvert_exporter": "python",
   "pygments_lexer": "ipython3",
   "version": "3.11.4"
  }
 },
 "nbformat": 4,
 "nbformat_minor": 5
}
